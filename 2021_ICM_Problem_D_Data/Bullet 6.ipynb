{
 "cells": [
  {
   "cell_type": "markdown",
   "metadata": {},
   "source": [
    "### Analyze the influence processes of musical evolution that occurred over time in one genre. Can your team identify indicators that reveal the dynamic influencers, and explain how the genre(s) or artist(s) changed over time?"
   ]
  },
  {
   "cell_type": "code",
   "execution_count": 80,
   "metadata": {},
   "outputs": [],
   "source": [
    "import pandas as pd\n",
    "import numpy as np\n",
    "import networkx as nx\n",
    "import ast\n",
    "from sklearn.metrics.pairwise import cosine_similarity\n",
    "import matplotlib.pyplot as plt\n",
    "import math"
   ]
  },
  {
   "cell_type": "code",
   "execution_count": 81,
   "metadata": {},
   "outputs": [],
   "source": [
    "artists = pd.read_csv('data_by_artist.csv')\n",
    "artists = artists.drop_duplicates(subset='artist_name', keep='last')\n",
    "years = pd.read_csv('data_by_year.csv')\n",
    "influence = pd.read_csv('influence_data.csv')"
   ]
  },
  {
   "cell_type": "code",
   "execution_count": 82,
   "metadata": {},
   "outputs": [
    {
     "name": "stderr",
     "output_type": "stream",
     "text": [
      "  0%|                                                                                        | 0/98340 [00:00<?, ?it/s]C:\\Users\\Michael\\Anaconda3\\lib\\site-packages\\ipykernel_launcher.py:32: SettingWithCopyWarning: \n",
      "A value is trying to be set on a copy of a slice from a DataFrame\n",
      "\n",
      "See the caveats in the documentation: http://pandas.pydata.org/pandas-docs/stable/user_guide/indexing.html#returning-a-view-versus-a-copy\n",
      "C:\\Users\\Michael\\Anaconda3\\lib\\site-packages\\ipykernel_launcher.py:33: SettingWithCopyWarning: \n",
      "A value is trying to be set on a copy of a slice from a DataFrame\n",
      "\n",
      "See the caveats in the documentation: http://pandas.pydata.org/pandas-docs/stable/user_guide/indexing.html#returning-a-view-versus-a-copy\n",
      "C:\\Users\\Michael\\Anaconda3\\lib\\site-packages\\ipykernel_launcher.py:25: SettingWithCopyWarning: \n",
      "A value is trying to be set on a copy of a slice from a DataFrame\n",
      "\n",
      "See the caveats in the documentation: http://pandas.pydata.org/pandas-docs/stable/user_guide/indexing.html#returning-a-view-versus-a-copy\n",
      "C:\\Users\\Michael\\Anaconda3\\lib\\site-packages\\ipykernel_launcher.py:26: SettingWithCopyWarning: \n",
      "A value is trying to be set on a copy of a slice from a DataFrame\n",
      "\n",
      "See the caveats in the documentation: http://pandas.pydata.org/pandas-docs/stable/user_guide/indexing.html#returning-a-view-versus-a-copy\n",
      "C:\\Users\\Michael\\Anaconda3\\lib\\site-packages\\ipykernel_launcher.py:44: SettingWithCopyWarning: \n",
      "A value is trying to be set on a copy of a slice from a DataFrame\n",
      "\n",
      "See the caveats in the documentation: http://pandas.pydata.org/pandas-docs/stable/user_guide/indexing.html#returning-a-view-versus-a-copy\n",
      "C:\\Users\\Michael\\Anaconda3\\lib\\site-packages\\ipykernel_launcher.py:45: SettingWithCopyWarning: \n",
      "A value is trying to be set on a copy of a slice from a DataFrame\n",
      "\n",
      "See the caveats in the documentation: http://pandas.pydata.org/pandas-docs/stable/user_guide/indexing.html#returning-a-view-versus-a-copy\n",
      "100%|██████████████████████████████████████████████████████████████████████████| 98340/98340 [01:13<00:00, 1331.25it/s]\n",
      "100%|██████████████████████████████████████████████████████████████████████████| 42770/42770 [00:19<00:00, 2198.54it/s]\n"
     ]
    },
    {
     "data": {
      "text/html": [
       "<div>\n",
       "<style scoped>\n",
       "    .dataframe tbody tr th:only-of-type {\n",
       "        vertical-align: middle;\n",
       "    }\n",
       "\n",
       "    .dataframe tbody tr th {\n",
       "        vertical-align: top;\n",
       "    }\n",
       "\n",
       "    .dataframe thead th {\n",
       "        text-align: right;\n",
       "    }\n",
       "</style>\n",
       "<table border=\"1\" class=\"dataframe\">\n",
       "  <thead>\n",
       "    <tr style=\"text-align: right;\">\n",
       "      <th></th>\n",
       "      <th>artist_names</th>\n",
       "      <th>artists_id</th>\n",
       "      <th>danceability</th>\n",
       "      <th>energy</th>\n",
       "      <th>valence</th>\n",
       "      <th>tempo</th>\n",
       "      <th>loudness</th>\n",
       "      <th>mode</th>\n",
       "      <th>key</th>\n",
       "      <th>acousticness</th>\n",
       "      <th>instrumentalness</th>\n",
       "      <th>liveness</th>\n",
       "      <th>speechiness</th>\n",
       "      <th>explicit</th>\n",
       "      <th>duration_ms</th>\n",
       "      <th>popularity</th>\n",
       "      <th>year</th>\n",
       "      <th>release_date</th>\n",
       "      <th>song_title (censored)</th>\n",
       "      <th>genre</th>\n",
       "    </tr>\n",
       "  </thead>\n",
       "  <tbody>\n",
       "    <tr>\n",
       "      <td>0</td>\n",
       "      <td>Fat Freddy's Drop</td>\n",
       "      <td>178301</td>\n",
       "      <td>0.600</td>\n",
       "      <td>0.365</td>\n",
       "      <td>0.131</td>\n",
       "      <td>0.532777</td>\n",
       "      <td>-13.083</td>\n",
       "      <td>0</td>\n",
       "      <td>9</td>\n",
       "      <td>0.0672</td>\n",
       "      <td>0.585000</td>\n",
       "      <td>0.0921</td>\n",
       "      <td>0.0498</td>\n",
       "      <td>0</td>\n",
       "      <td>437200</td>\n",
       "      <td>54</td>\n",
       "      <td>2005</td>\n",
       "      <td>2005</td>\n",
       "      <td>Ernie</td>\n",
       "      <td>Electronic</td>\n",
       "    </tr>\n",
       "    <tr>\n",
       "      <td>1</td>\n",
       "      <td>Fat Freddy's Drop</td>\n",
       "      <td>178301</td>\n",
       "      <td>0.874</td>\n",
       "      <td>0.326</td>\n",
       "      <td>0.179</td>\n",
       "      <td>0.490063</td>\n",
       "      <td>-13.302</td>\n",
       "      <td>0</td>\n",
       "      <td>11</td>\n",
       "      <td>0.0136</td>\n",
       "      <td>0.148000</td>\n",
       "      <td>0.0993</td>\n",
       "      <td>0.1310</td>\n",
       "      <td>0</td>\n",
       "      <td>581008</td>\n",
       "      <td>53</td>\n",
       "      <td>2005</td>\n",
       "      <td>2005</td>\n",
       "      <td>Wandering Eye</td>\n",
       "      <td>Electronic</td>\n",
       "    </tr>\n",
       "    <tr>\n",
       "      <td>2</td>\n",
       "      <td>Fat Freddy's Drop</td>\n",
       "      <td>178301</td>\n",
       "      <td>0.670</td>\n",
       "      <td>0.531</td>\n",
       "      <td>0.336</td>\n",
       "      <td>0.571037</td>\n",
       "      <td>-8.267</td>\n",
       "      <td>0</td>\n",
       "      <td>9</td>\n",
       "      <td>0.0156</td>\n",
       "      <td>0.345000</td>\n",
       "      <td>0.3060</td>\n",
       "      <td>0.0377</td>\n",
       "      <td>0</td>\n",
       "      <td>431293</td>\n",
       "      <td>55</td>\n",
       "      <td>2009</td>\n",
       "      <td>8/7/2009</td>\n",
       "      <td>The Raft</td>\n",
       "      <td>Electronic</td>\n",
       "    </tr>\n",
       "    <tr>\n",
       "      <td>3</td>\n",
       "      <td>Alexander O'Neal</td>\n",
       "      <td>625201</td>\n",
       "      <td>0.761</td>\n",
       "      <td>0.702</td>\n",
       "      <td>0.850</td>\n",
       "      <td>0.429237</td>\n",
       "      <td>-8.523</td>\n",
       "      <td>1</td>\n",
       "      <td>7</td>\n",
       "      <td>0.1080</td>\n",
       "      <td>0.000031</td>\n",
       "      <td>0.0935</td>\n",
       "      <td>0.0389</td>\n",
       "      <td>0</td>\n",
       "      <td>304427</td>\n",
       "      <td>34</td>\n",
       "      <td>1991</td>\n",
       "      <td>1/1/1991</td>\n",
       "      <td>All True Man</td>\n",
       "      <td>R&amp;B;</td>\n",
       "    </tr>\n",
       "    <tr>\n",
       "      <td>4</td>\n",
       "      <td>Alexander O'Neal</td>\n",
       "      <td>625201</td>\n",
       "      <td>0.661</td>\n",
       "      <td>0.828</td>\n",
       "      <td>0.902</td>\n",
       "      <td>0.471455</td>\n",
       "      <td>-12.673</td>\n",
       "      <td>0</td>\n",
       "      <td>11</td>\n",
       "      <td>0.2760</td>\n",
       "      <td>0.000001</td>\n",
       "      <td>0.2870</td>\n",
       "      <td>0.0390</td>\n",
       "      <td>0</td>\n",
       "      <td>264933</td>\n",
       "      <td>37</td>\n",
       "      <td>1987</td>\n",
       "      <td>7/29/1987</td>\n",
       "      <td>(What Can I Say) To Make You Love Me</td>\n",
       "      <td>R&amp;B;</td>\n",
       "    </tr>\n",
       "  </tbody>\n",
       "</table>\n",
       "</div>"
      ],
      "text/plain": [
       "        artist_names  artists_id  danceability  energy  valence     tempo  \\\n",
       "0  Fat Freddy's Drop      178301         0.600   0.365    0.131  0.532777   \n",
       "1  Fat Freddy's Drop      178301         0.874   0.326    0.179  0.490063   \n",
       "2  Fat Freddy's Drop      178301         0.670   0.531    0.336  0.571037   \n",
       "3   Alexander O'Neal      625201         0.761   0.702    0.850  0.429237   \n",
       "4   Alexander O'Neal      625201         0.661   0.828    0.902  0.471455   \n",
       "\n",
       "   loudness  mode  key  acousticness  instrumentalness  liveness  speechiness  \\\n",
       "0   -13.083     0    9        0.0672          0.585000    0.0921       0.0498   \n",
       "1   -13.302     0   11        0.0136          0.148000    0.0993       0.1310   \n",
       "2    -8.267     0    9        0.0156          0.345000    0.3060       0.0377   \n",
       "3    -8.523     1    7        0.1080          0.000031    0.0935       0.0389   \n",
       "4   -12.673     0   11        0.2760          0.000001    0.2870       0.0390   \n",
       "\n",
       "   explicit  duration_ms  popularity  year release_date  \\\n",
       "0         0       437200          54  2005         2005   \n",
       "1         0       581008          53  2005         2005   \n",
       "2         0       431293          55  2009     8/7/2009   \n",
       "3         0       304427          34  1991     1/1/1991   \n",
       "4         0       264933          37  1987    7/29/1987   \n",
       "\n",
       "                  song_title (censored)       genre  \n",
       "0                                 Ernie  Electronic  \n",
       "1                         Wandering Eye  Electronic  \n",
       "2                              The Raft  Electronic  \n",
       "3                          All True Man        R&B;  \n",
       "4  (What Can I Say) To Make You Love Me        R&B;  "
      ]
     },
     "execution_count": 82,
     "metadata": {},
     "output_type": "execute_result"
    }
   ],
   "source": [
    "from tqdm import tqdm\n",
    "#remove songs by artists that arent in the artists table\n",
    "#duplicate songs w/ more than one artist\n",
    "#takes my computer about a minute to run\n",
    "#can ignore the warnings about setting a copy of a slice from a dataframe\n",
    "full = pd.read_csv('full_music_data.csv')\n",
    "allArtists = list(artists['artist_id'])\n",
    "newdict = {}\n",
    "\n",
    "full['artists_id'] = [int(x.split(',')[0][1:-1]) if len(x.split(',')) == 1 else [int(y) for y in x[1:-1].split(',')] for x in list(full['artists_id'])]\n",
    "full['artist_names'] = [ast.literal_eval(x) if len(ast.literal_eval(x)) > 1 else ast.literal_eval(x)[0] for x in full['artist_names']]\n",
    "floor = min(full['tempo'])\n",
    "span = max(full['tempo']) - floor\n",
    "full['tempo'] = [(x-floor)/span for x in full['tempo']]\n",
    "\n",
    "last_id = 0\n",
    "row = 0\n",
    "for i in tqdm(range(len(full))): \n",
    "    thisRow = full.iloc[i,:]\n",
    "    artIDs = thisRow['artists_id']\n",
    "    artNames = thisRow['artist_names']\n",
    "    \n",
    "    if type(artIDs) == int:\n",
    "        if artIDs == last_id: \n",
    "            thisRow['artists_id'] = artIDs\n",
    "            thisRow['artist_names'] = artNames\n",
    "            newdict[row] = thisRow.to_dict()\n",
    "            row+=1\n",
    "            last_id = artIDs\n",
    "        else:\n",
    "            if artIDs in allArtists:\n",
    "                thisRow['artists_id'] = artIDs\n",
    "                thisRow['artist_names'] = artNames\n",
    "                newdict[row] = thisRow.to_dict()\n",
    "                row+=1\n",
    "                last_id = artIDs\n",
    "                \n",
    "    else:\n",
    "        for j in range(len(artIDs)):\n",
    "            artID = int(artIDs[j])\n",
    "            artName = str(artNames[j])\n",
    "            \n",
    "            if artID in allArtists:\n",
    "                thisRow['artists_id'] = artID\n",
    "                thisRow['artist_names'] = artName\n",
    "                newdict[row] = thisRow.to_dict()\n",
    "                row+=1\n",
    "    i+=1\n",
    "\n",
    "full = pd.DataFrame.from_dict(newdict,'index')\n",
    "\n",
    "artistGenres = {} #adds song genre to full\n",
    "for i in tqdm(range(len(influence))):\n",
    "    row = influence.iloc[i]\n",
    "    influencer = row['influencer_id']\n",
    "    follower = row['follower_id']\n",
    "    infGenre = row['influencer_main_genre']\n",
    "    folGenre = row['follower_main_genre']\n",
    "    artistGenres[influencer] = infGenre\n",
    "    artistGenres[follower] = folGenre\n",
    "\n",
    "def getGenre(row):\n",
    "    artist = row['artists_id']\n",
    "    if type(artist) == list:\n",
    "        print(row)\n",
    "    try:\n",
    "        genre = artistGenres[artist]\n",
    "    except KeyError:\n",
    "        genre = 'N/A'\n",
    "    return genre\n",
    "\n",
    "full['genre'] = full.apply(lambda row: getGenre(row), axis = 1)\n",
    "\n",
    "full.head()\n"
   ]
  },
  {
   "cell_type": "code",
   "execution_count": 83,
   "metadata": {},
   "outputs": [
    {
     "data": {
      "text/html": [
       "<div>\n",
       "<style scoped>\n",
       "    .dataframe tbody tr th:only-of-type {\n",
       "        vertical-align: middle;\n",
       "    }\n",
       "\n",
       "    .dataframe tbody tr th {\n",
       "        vertical-align: top;\n",
       "    }\n",
       "\n",
       "    .dataframe thead th {\n",
       "        text-align: right;\n",
       "    }\n",
       "</style>\n",
       "<table border=\"1\" class=\"dataframe\">\n",
       "  <thead>\n",
       "    <tr style=\"text-align: right;\">\n",
       "      <th></th>\n",
       "      <th>influencer_id</th>\n",
       "      <th>influencer_name</th>\n",
       "      <th>influencer_main_genre</th>\n",
       "      <th>influencer_active_start</th>\n",
       "      <th>follower_id</th>\n",
       "      <th>follower_name</th>\n",
       "      <th>follower_main_genre</th>\n",
       "      <th>follower_active_start</th>\n",
       "    </tr>\n",
       "  </thead>\n",
       "  <tbody>\n",
       "    <tr>\n",
       "      <td>0</td>\n",
       "      <td>759491</td>\n",
       "      <td>The Exploited</td>\n",
       "      <td>Pop/Rock</td>\n",
       "      <td>1980</td>\n",
       "      <td>74</td>\n",
       "      <td>Special Duties</td>\n",
       "      <td>Pop/Rock</td>\n",
       "      <td>1980</td>\n",
       "    </tr>\n",
       "    <tr>\n",
       "      <td>1</td>\n",
       "      <td>25462</td>\n",
       "      <td>Tricky</td>\n",
       "      <td>Electronic</td>\n",
       "      <td>1990</td>\n",
       "      <td>335</td>\n",
       "      <td>PJ Harvey</td>\n",
       "      <td>Pop/Rock</td>\n",
       "      <td>1990</td>\n",
       "    </tr>\n",
       "    <tr>\n",
       "      <td>2</td>\n",
       "      <td>66915</td>\n",
       "      <td>Bob Dylan</td>\n",
       "      <td>Pop/Rock</td>\n",
       "      <td>1960</td>\n",
       "      <td>335</td>\n",
       "      <td>PJ Harvey</td>\n",
       "      <td>Pop/Rock</td>\n",
       "      <td>1990</td>\n",
       "    </tr>\n",
       "    <tr>\n",
       "      <td>3</td>\n",
       "      <td>71209</td>\n",
       "      <td>Leonard Cohen</td>\n",
       "      <td>Pop/Rock</td>\n",
       "      <td>1950</td>\n",
       "      <td>335</td>\n",
       "      <td>PJ Harvey</td>\n",
       "      <td>Pop/Rock</td>\n",
       "      <td>1990</td>\n",
       "    </tr>\n",
       "    <tr>\n",
       "      <td>4</td>\n",
       "      <td>91438</td>\n",
       "      <td>The Gun Club</td>\n",
       "      <td>Pop/Rock</td>\n",
       "      <td>1980</td>\n",
       "      <td>335</td>\n",
       "      <td>PJ Harvey</td>\n",
       "      <td>Pop/Rock</td>\n",
       "      <td>1990</td>\n",
       "    </tr>\n",
       "  </tbody>\n",
       "</table>\n",
       "</div>"
      ],
      "text/plain": [
       "   influencer_id influencer_name influencer_main_genre  \\\n",
       "0         759491   The Exploited              Pop/Rock   \n",
       "1          25462          Tricky            Electronic   \n",
       "2          66915       Bob Dylan              Pop/Rock   \n",
       "3          71209   Leonard Cohen              Pop/Rock   \n",
       "4          91438    The Gun Club              Pop/Rock   \n",
       "\n",
       "   influencer_active_start  follower_id   follower_name follower_main_genre  \\\n",
       "0                     1980           74  Special Duties            Pop/Rock   \n",
       "1                     1990          335       PJ Harvey            Pop/Rock   \n",
       "2                     1960          335       PJ Harvey            Pop/Rock   \n",
       "3                     1950          335       PJ Harvey            Pop/Rock   \n",
       "4                     1980          335       PJ Harvey            Pop/Rock   \n",
       "\n",
       "   follower_active_start  \n",
       "0                   1980  \n",
       "1                   1990  \n",
       "2                   1990  \n",
       "3                   1990  \n",
       "4                   1990  "
      ]
     },
     "execution_count": 83,
     "metadata": {},
     "output_type": "execute_result"
    }
   ],
   "source": [
    "# list artist names\n",
    "names = []\n",
    "for i in artists['artist_name']:\n",
    "    names.append(i)\n",
    "    \n",
    "# refine influence df\n",
    "influence = influence[influence['influencer_name'].isin(names)]\n",
    "influence = influence[influence['follower_name'].isin(names)]\n",
    "influence = influence.reset_index(drop=True)\n",
    "influence.head()"
   ]
  },
  {
   "cell_type": "code",
   "execution_count": 84,
   "metadata": {},
   "outputs": [
    {
     "data": {
      "text/html": [
       "<div>\n",
       "<style scoped>\n",
       "    .dataframe tbody tr th:only-of-type {\n",
       "        vertical-align: middle;\n",
       "    }\n",
       "\n",
       "    .dataframe tbody tr th {\n",
       "        vertical-align: top;\n",
       "    }\n",
       "\n",
       "    .dataframe thead th {\n",
       "        text-align: right;\n",
       "    }\n",
       "</style>\n",
       "<table border=\"1\" class=\"dataframe\">\n",
       "  <thead>\n",
       "    <tr style=\"text-align: right;\">\n",
       "      <th></th>\n",
       "      <th>names</th>\n",
       "      <th>artists</th>\n",
       "      <th>scores</th>\n",
       "    </tr>\n",
       "  </thead>\n",
       "  <tbody>\n",
       "    <tr>\n",
       "      <td>0</td>\n",
       "      <td>The Beatles</td>\n",
       "      <td>754032</td>\n",
       "      <td>11223</td>\n",
       "    </tr>\n",
       "    <tr>\n",
       "      <td>1</td>\n",
       "      <td>Bob Dylan</td>\n",
       "      <td>66915</td>\n",
       "      <td>7923</td>\n",
       "    </tr>\n",
       "    <tr>\n",
       "      <td>2</td>\n",
       "      <td>The Rolling Stones</td>\n",
       "      <td>894465</td>\n",
       "      <td>6337</td>\n",
       "    </tr>\n",
       "    <tr>\n",
       "      <td>3</td>\n",
       "      <td>Chuck Berry</td>\n",
       "      <td>120521</td>\n",
       "      <td>5893</td>\n",
       "    </tr>\n",
       "    <tr>\n",
       "      <td>4</td>\n",
       "      <td>Elvis Presley</td>\n",
       "      <td>180228</td>\n",
       "      <td>4743</td>\n",
       "    </tr>\n",
       "    <tr>\n",
       "      <td>...</td>\n",
       "      <td>...</td>\n",
       "      <td>...</td>\n",
       "      <td>...</td>\n",
       "    </tr>\n",
       "    <tr>\n",
       "      <td>5847</td>\n",
       "      <td>Joss Stone</td>\n",
       "      <td>286572</td>\n",
       "      <td>0</td>\n",
       "    </tr>\n",
       "    <tr>\n",
       "      <td>5848</td>\n",
       "      <td>She Wants Revenge</td>\n",
       "      <td>328201</td>\n",
       "      <td>0</td>\n",
       "    </tr>\n",
       "    <tr>\n",
       "      <td>5849</td>\n",
       "      <td>Jonathan Coulton</td>\n",
       "      <td>329542</td>\n",
       "      <td>0</td>\n",
       "    </tr>\n",
       "    <tr>\n",
       "      <td>5850</td>\n",
       "      <td>No Use for a Name</td>\n",
       "      <td>344037</td>\n",
       "      <td>0</td>\n",
       "    </tr>\n",
       "    <tr>\n",
       "      <td>5851</td>\n",
       "      <td>Unknown</td>\n",
       "      <td>1393658</td>\n",
       "      <td>0</td>\n",
       "    </tr>\n",
       "  </tbody>\n",
       "</table>\n",
       "<p>5852 rows × 3 columns</p>\n",
       "</div>"
      ],
      "text/plain": [
       "                   names  artists  scores\n",
       "0            The Beatles   754032   11223\n",
       "1              Bob Dylan    66915    7923\n",
       "2     The Rolling Stones   894465    6337\n",
       "3            Chuck Berry   120521    5893\n",
       "4          Elvis Presley   180228    4743\n",
       "...                  ...      ...     ...\n",
       "5847          Joss Stone   286572       0\n",
       "5848   She Wants Revenge   328201       0\n",
       "5849    Jonathan Coulton   329542       0\n",
       "5850   No Use for a Name   344037       0\n",
       "5851             Unknown  1393658       0\n",
       "\n",
       "[5852 rows x 3 columns]"
      ]
     },
     "execution_count": 84,
     "metadata": {},
     "output_type": "execute_result"
    }
   ],
   "source": [
    "idDict = {}\n",
    "for i in range(len(artists)):\n",
    "    try:\n",
    "        idDict[artists['artist_id'][i]] = artists['artist_name'][i]\n",
    "    except:\n",
    "        pass\n",
    "\n",
    "iGraph = nx.DiGraph()\n",
    "for artist in artists['artist_id']:\n",
    "    iGraph.add_node(artist, weight = 0)\n",
    "    \n",
    "for i in range(len(influence)):\n",
    "    influencer = influence[\"influencer_id\"][i]\n",
    "    follower = influence['follower_id'][i]\n",
    "    \n",
    "    iGraph.add_edge(influencer,follower)    \n",
    "\n",
    "arts = []\n",
    "artnames = []\n",
    "scores = []\n",
    "for node in iGraph.nodes():\n",
    "    children = list(iGraph.successors(node))\n",
    "    total = 0\n",
    "    for child in children:\n",
    "        total += iGraph.out_degree[child]\n",
    "        \n",
    "    iGraph.nodes[node]['weight'] = total\n",
    "    arts.append(node)\n",
    "    try:\n",
    "        artnames.append(idDict[node])\n",
    "    except KeyError:\n",
    "        artnames.append('Unknown')\n",
    "    scores.append(total)\n",
    "    \n",
    "   \n",
    "totalInfluence = pd.DataFrame({'names':artnames, 'artists':arts, 'scores':scores})\n",
    "totalInfluence = totalInfluence.sort_values(by=['scores'], ascending = False)\n",
    "totalInfluence = totalInfluence.reset_index(drop=True)\n",
    "totalInfluence"
   ]
  },
  {
   "cell_type": "code",
   "execution_count": 85,
   "metadata": {},
   "outputs": [],
   "source": [
    "# list genres\n",
    "genre = []\n",
    "for i in influence['influencer_main_genre']:\n",
    "    if i not in genre:\n",
    "        genre.append(i)\n",
    "for i in influence['follower_main_genre']:\n",
    "    if i not in genre:\n",
    "        genre.append(i)"
   ]
  },
  {
   "cell_type": "code",
   "execution_count": 86,
   "metadata": {},
   "outputs": [],
   "source": [
    "# dict of genres paired w their artists\n",
    "artistByGenre = {}\n",
    "for i in genre:\n",
    "    artistByGenre[i] = []\n",
    "i = 0\n",
    "while i < len(influence):\n",
    "    genreList = artistByGenre.get(influence['influencer_main_genre'][i])\n",
    "    genreListF = artistByGenre.get(influence['follower_main_genre'][i])\n",
    "    if influence['influencer_name'][i] not in genreList:\n",
    "        genreList.append(influence['influencer_name'][i])\n",
    "    if influence['follower_name'][i] not in genreListF:\n",
    "        genreListF.append(influence['follower_name'][i])\n",
    "    i += 1"
   ]
  },
  {
   "cell_type": "code",
   "execution_count": 87,
   "metadata": {},
   "outputs": [
    {
     "data": {
      "text/html": [
       "<div>\n",
       "<style scoped>\n",
       "    .dataframe tbody tr th:only-of-type {\n",
       "        vertical-align: middle;\n",
       "    }\n",
       "\n",
       "    .dataframe tbody tr th {\n",
       "        vertical-align: top;\n",
       "    }\n",
       "\n",
       "    .dataframe thead th {\n",
       "        text-align: right;\n",
       "    }\n",
       "</style>\n",
       "<table border=\"1\" class=\"dataframe\">\n",
       "  <thead>\n",
       "    <tr style=\"text-align: right;\">\n",
       "      <th></th>\n",
       "      <th>artist_names</th>\n",
       "      <th>artists_id</th>\n",
       "      <th>danceability</th>\n",
       "      <th>energy</th>\n",
       "      <th>valence</th>\n",
       "      <th>tempo</th>\n",
       "      <th>loudness</th>\n",
       "      <th>mode</th>\n",
       "      <th>key</th>\n",
       "      <th>acousticness</th>\n",
       "      <th>...</th>\n",
       "      <th>liveness</th>\n",
       "      <th>speechiness</th>\n",
       "      <th>explicit</th>\n",
       "      <th>duration_ms</th>\n",
       "      <th>popularity</th>\n",
       "      <th>year</th>\n",
       "      <th>release_date</th>\n",
       "      <th>song_title (censored)</th>\n",
       "      <th>genre</th>\n",
       "      <th>mood</th>\n",
       "    </tr>\n",
       "  </thead>\n",
       "  <tbody>\n",
       "    <tr>\n",
       "      <td>48518</td>\n",
       "      <td>Ariana Grande</td>\n",
       "      <td>2264745</td>\n",
       "      <td>0.672</td>\n",
       "      <td>0.855</td>\n",
       "      <td>0.646</td>\n",
       "      <td>0.504140</td>\n",
       "      <td>-3.764</td>\n",
       "      <td>1</td>\n",
       "      <td>9</td>\n",
       "      <td>0.0210</td>\n",
       "      <td>...</td>\n",
       "      <td>0.3230</td>\n",
       "      <td>0.0397</td>\n",
       "      <td>0</td>\n",
       "      <td>182200</td>\n",
       "      <td>94</td>\n",
       "      <td>2020</td>\n",
       "      <td>5/22/2020</td>\n",
       "      <td>Rain On Me (with ****** Grande)</td>\n",
       "      <td>Pop/Rock</td>\n",
       "      <td>1.318</td>\n",
       "    </tr>\n",
       "    <tr>\n",
       "      <td>48517</td>\n",
       "      <td>Justin Bieber</td>\n",
       "      <td>2165952</td>\n",
       "      <td>0.597</td>\n",
       "      <td>0.450</td>\n",
       "      <td>0.537</td>\n",
       "      <td>0.732370</td>\n",
       "      <td>-6.658</td>\n",
       "      <td>1</td>\n",
       "      <td>8</td>\n",
       "      <td>0.2230</td>\n",
       "      <td>...</td>\n",
       "      <td>0.3820</td>\n",
       "      <td>0.0418</td>\n",
       "      <td>0</td>\n",
       "      <td>228482</td>\n",
       "      <td>94</td>\n",
       "      <td>2020</td>\n",
       "      <td>5/8/2020</td>\n",
       "      <td>Stuck with U (with Justin Bieber)</td>\n",
       "      <td>Pop/Rock</td>\n",
       "      <td>1.134</td>\n",
       "    </tr>\n",
       "    <tr>\n",
       "      <td>48516</td>\n",
       "      <td>Ariana Grande</td>\n",
       "      <td>2264745</td>\n",
       "      <td>0.597</td>\n",
       "      <td>0.450</td>\n",
       "      <td>0.537</td>\n",
       "      <td>0.732370</td>\n",
       "      <td>-6.658</td>\n",
       "      <td>1</td>\n",
       "      <td>8</td>\n",
       "      <td>0.2230</td>\n",
       "      <td>...</td>\n",
       "      <td>0.3820</td>\n",
       "      <td>0.0418</td>\n",
       "      <td>0</td>\n",
       "      <td>228482</td>\n",
       "      <td>94</td>\n",
       "      <td>2020</td>\n",
       "      <td>5/8/2020</td>\n",
       "      <td>Stuck with U (with Justin Bieber)</td>\n",
       "      <td>Pop/Rock</td>\n",
       "      <td>1.134</td>\n",
       "    </tr>\n",
       "    <tr>\n",
       "      <td>48515</td>\n",
       "      <td>Lady Gaga</td>\n",
       "      <td>994823</td>\n",
       "      <td>0.672</td>\n",
       "      <td>0.855</td>\n",
       "      <td>0.646</td>\n",
       "      <td>0.504140</td>\n",
       "      <td>-3.764</td>\n",
       "      <td>1</td>\n",
       "      <td>9</td>\n",
       "      <td>0.0210</td>\n",
       "      <td>...</td>\n",
       "      <td>0.3230</td>\n",
       "      <td>0.0397</td>\n",
       "      <td>0</td>\n",
       "      <td>182200</td>\n",
       "      <td>94</td>\n",
       "      <td>2020</td>\n",
       "      <td>5/22/2020</td>\n",
       "      <td>Rain On Me (with ****** Grande)</td>\n",
       "      <td>Pop/Rock</td>\n",
       "      <td>1.318</td>\n",
       "    </tr>\n",
       "    <tr>\n",
       "      <td>48514</td>\n",
       "      <td>Dua Lipa</td>\n",
       "      <td>3426731</td>\n",
       "      <td>0.794</td>\n",
       "      <td>0.793</td>\n",
       "      <td>0.677</td>\n",
       "      <td>0.507766</td>\n",
       "      <td>-4.521</td>\n",
       "      <td>0</td>\n",
       "      <td>11</td>\n",
       "      <td>0.0125</td>\n",
       "      <td>...</td>\n",
       "      <td>0.0952</td>\n",
       "      <td>0.0842</td>\n",
       "      <td>0</td>\n",
       "      <td>183290</td>\n",
       "      <td>93</td>\n",
       "      <td>2019</td>\n",
       "      <td>10/31/2019</td>\n",
       "      <td>Don't Start Now</td>\n",
       "      <td>Pop/Rock</td>\n",
       "      <td>1.471</td>\n",
       "    </tr>\n",
       "    <tr>\n",
       "      <td>...</td>\n",
       "      <td>...</td>\n",
       "      <td>...</td>\n",
       "      <td>...</td>\n",
       "      <td>...</td>\n",
       "      <td>...</td>\n",
       "      <td>...</td>\n",
       "      <td>...</td>\n",
       "      <td>...</td>\n",
       "      <td>...</td>\n",
       "      <td>...</td>\n",
       "      <td>...</td>\n",
       "      <td>...</td>\n",
       "      <td>...</td>\n",
       "      <td>...</td>\n",
       "      <td>...</td>\n",
       "      <td>...</td>\n",
       "      <td>...</td>\n",
       "      <td>...</td>\n",
       "      <td>...</td>\n",
       "      <td>...</td>\n",
       "      <td>...</td>\n",
       "    </tr>\n",
       "    <tr>\n",
       "      <td>37</td>\n",
       "      <td>Mina</td>\n",
       "      <td>492521</td>\n",
       "      <td>0.458</td>\n",
       "      <td>0.554</td>\n",
       "      <td>0.649</td>\n",
       "      <td>0.647300</td>\n",
       "      <td>-11.206</td>\n",
       "      <td>1</td>\n",
       "      <td>7</td>\n",
       "      <td>0.6600</td>\n",
       "      <td>...</td>\n",
       "      <td>0.2420</td>\n",
       "      <td>0.0413</td>\n",
       "      <td>0</td>\n",
       "      <td>132545</td>\n",
       "      <td>0</td>\n",
       "      <td>1942</td>\n",
       "      <td>11/13/1942</td>\n",
       "      <td>Renato</td>\n",
       "      <td>Pop/Rock</td>\n",
       "      <td>1.107</td>\n",
       "    </tr>\n",
       "    <tr>\n",
       "      <td>36</td>\n",
       "      <td>Demi Lovato</td>\n",
       "      <td>996127</td>\n",
       "      <td>0.713</td>\n",
       "      <td>0.916</td>\n",
       "      <td>0.669</td>\n",
       "      <td>0.393280</td>\n",
       "      <td>-3.310</td>\n",
       "      <td>1</td>\n",
       "      <td>0</td>\n",
       "      <td>0.0370</td>\n",
       "      <td>...</td>\n",
       "      <td>0.0681</td>\n",
       "      <td>0.0401</td>\n",
       "      <td>0</td>\n",
       "      <td>175320</td>\n",
       "      <td>0</td>\n",
       "      <td>2020</td>\n",
       "      <td>6/5/2020</td>\n",
       "      <td>Échame La Culpa</td>\n",
       "      <td>Pop/Rock</td>\n",
       "      <td>1.382</td>\n",
       "    </tr>\n",
       "    <tr>\n",
       "      <td>35</td>\n",
       "      <td>Mina</td>\n",
       "      <td>492521</td>\n",
       "      <td>0.619</td>\n",
       "      <td>0.320</td>\n",
       "      <td>0.701</td>\n",
       "      <td>0.479313</td>\n",
       "      <td>-12.270</td>\n",
       "      <td>0</td>\n",
       "      <td>0</td>\n",
       "      <td>0.6740</td>\n",
       "      <td>...</td>\n",
       "      <td>0.3530</td>\n",
       "      <td>0.0413</td>\n",
       "      <td>0</td>\n",
       "      <td>159112</td>\n",
       "      <td>0</td>\n",
       "      <td>1942</td>\n",
       "      <td>11/13/1942</td>\n",
       "      <td>Sabato notte</td>\n",
       "      <td>Pop/Rock</td>\n",
       "      <td>1.320</td>\n",
       "    </tr>\n",
       "    <tr>\n",
       "      <td>34</td>\n",
       "      <td>Robert Palmer</td>\n",
       "      <td>93632</td>\n",
       "      <td>0.440</td>\n",
       "      <td>0.443</td>\n",
       "      <td>0.522</td>\n",
       "      <td>0.409044</td>\n",
       "      <td>-20.145</td>\n",
       "      <td>1</td>\n",
       "      <td>0</td>\n",
       "      <td>0.9870</td>\n",
       "      <td>...</td>\n",
       "      <td>0.8390</td>\n",
       "      <td>0.0469</td>\n",
       "      <td>0</td>\n",
       "      <td>127933</td>\n",
       "      <td>0</td>\n",
       "      <td>1945</td>\n",
       "      <td>1945</td>\n",
       "      <td>Toccata ostinato</td>\n",
       "      <td>Pop/Rock</td>\n",
       "      <td>0.962</td>\n",
       "    </tr>\n",
       "    <tr>\n",
       "      <td>0</td>\n",
       "      <td>Dire Straits</td>\n",
       "      <td>167517</td>\n",
       "      <td>0.460</td>\n",
       "      <td>0.916</td>\n",
       "      <td>0.811</td>\n",
       "      <td>0.706237</td>\n",
       "      <td>-8.524</td>\n",
       "      <td>1</td>\n",
       "      <td>4</td>\n",
       "      <td>0.4040</td>\n",
       "      <td>...</td>\n",
       "      <td>0.0975</td>\n",
       "      <td>0.1000</td>\n",
       "      <td>0</td>\n",
       "      <td>252507</td>\n",
       "      <td>0</td>\n",
       "      <td>2020</td>\n",
       "      <td>6/12/2020</td>\n",
       "      <td>Walk of Life</td>\n",
       "      <td>Pop/Rock</td>\n",
       "      <td>1.271</td>\n",
       "    </tr>\n",
       "  </tbody>\n",
       "</table>\n",
       "<p>48519 rows × 21 columns</p>\n",
       "</div>"
      ],
      "text/plain": [
       "        artist_names  artists_id  danceability  energy  valence     tempo  \\\n",
       "48518  Ariana Grande     2264745         0.672   0.855    0.646  0.504140   \n",
       "48517  Justin Bieber     2165952         0.597   0.450    0.537  0.732370   \n",
       "48516  Ariana Grande     2264745         0.597   0.450    0.537  0.732370   \n",
       "48515      Lady Gaga      994823         0.672   0.855    0.646  0.504140   \n",
       "48514       Dua Lipa     3426731         0.794   0.793    0.677  0.507766   \n",
       "...              ...         ...           ...     ...      ...       ...   \n",
       "37              Mina      492521         0.458   0.554    0.649  0.647300   \n",
       "36       Demi Lovato      996127         0.713   0.916    0.669  0.393280   \n",
       "35              Mina      492521         0.619   0.320    0.701  0.479313   \n",
       "34     Robert Palmer       93632         0.440   0.443    0.522  0.409044   \n",
       "0       Dire Straits      167517         0.460   0.916    0.811  0.706237   \n",
       "\n",
       "       loudness  mode  key  acousticness  ...  liveness  speechiness  \\\n",
       "48518    -3.764     1    9        0.0210  ...    0.3230       0.0397   \n",
       "48517    -6.658     1    8        0.2230  ...    0.3820       0.0418   \n",
       "48516    -6.658     1    8        0.2230  ...    0.3820       0.0418   \n",
       "48515    -3.764     1    9        0.0210  ...    0.3230       0.0397   \n",
       "48514    -4.521     0   11        0.0125  ...    0.0952       0.0842   \n",
       "...         ...   ...  ...           ...  ...       ...          ...   \n",
       "37      -11.206     1    7        0.6600  ...    0.2420       0.0413   \n",
       "36       -3.310     1    0        0.0370  ...    0.0681       0.0401   \n",
       "35      -12.270     0    0        0.6740  ...    0.3530       0.0413   \n",
       "34      -20.145     1    0        0.9870  ...    0.8390       0.0469   \n",
       "0        -8.524     1    4        0.4040  ...    0.0975       0.1000   \n",
       "\n",
       "       explicit  duration_ms  popularity  year  release_date  \\\n",
       "48518         0       182200          94  2020     5/22/2020   \n",
       "48517         0       228482          94  2020      5/8/2020   \n",
       "48516         0       228482          94  2020      5/8/2020   \n",
       "48515         0       182200          94  2020     5/22/2020   \n",
       "48514         0       183290          93  2019    10/31/2019   \n",
       "...         ...          ...         ...   ...           ...   \n",
       "37            0       132545           0  1942    11/13/1942   \n",
       "36            0       175320           0  2020      6/5/2020   \n",
       "35            0       159112           0  1942    11/13/1942   \n",
       "34            0       127933           0  1945          1945   \n",
       "0             0       252507           0  2020     6/12/2020   \n",
       "\n",
       "                   song_title (censored)     genre   mood  \n",
       "48518    Rain On Me (with ****** Grande)  Pop/Rock  1.318  \n",
       "48517  Stuck with U (with Justin Bieber)  Pop/Rock  1.134  \n",
       "48516  Stuck with U (with Justin Bieber)  Pop/Rock  1.134  \n",
       "48515    Rain On Me (with ****** Grande)  Pop/Rock  1.318  \n",
       "48514                    Don't Start Now  Pop/Rock  1.471  \n",
       "...                                  ...       ...    ...  \n",
       "37                                Renato  Pop/Rock  1.107  \n",
       "36                       Échame La Culpa  Pop/Rock  1.382  \n",
       "35                          Sabato notte  Pop/Rock  1.320  \n",
       "34                      Toccata ostinato  Pop/Rock  0.962  \n",
       "0                           Walk of Life  Pop/Rock  1.271  \n",
       "\n",
       "[48519 rows x 21 columns]"
      ]
     },
     "execution_count": 87,
     "metadata": {},
     "output_type": "execute_result"
    }
   ],
   "source": [
    "#all Pop/Rock songs and a list of Pop/Rock artists\n",
    "prSongs = full[full['genre'] == 'Pop/Rock']\n",
    "prSongs = prSongs.sort_values(by=['popularity'])\n",
    "prSongs = prSongs.reset_index(drop=True)\n",
    "prSongs['mood'] = prSongs['danceability'] + prSongs['valence']\n",
    "prSongs = prSongs.sort_values(by=['popularity'], ascending=False)\n",
    "prArtists = list(set(list(prSongs['artist_names'])))\n",
    "prSongs"
   ]
  },
  {
   "cell_type": "code",
   "execution_count": 90,
   "metadata": {},
   "outputs": [],
   "source": [
    "#Calculate mood least squares diffrential from mean of all Pop/Rock songs every year\n",
    "def PRDiffRank(name):\n",
    "    prMeans = prSongs.groupby(['year']).mean()\n",
    "    prMeans = prMeans.reset_index()\n",
    "    prMeans = prMeans[prMeans['year'] > 1947]\n",
    "    ns = prSongs[prSongs['artist_names'] == name]\n",
    "    ns = ns.groupby(['year']).mean()\n",
    "    ns = ns.reset_index()\n",
    "    diff = 0\n",
    "    prMeans = prMeans[prMeans['year'].isin(list(ns['year']))]\n",
    "    prMeans = prMeans.reset_index(drop=True)\n",
    "    for count, val in enumerate(prMeans['mood']):\n",
    "        diff += (val - ns['mood'][count]) ** 2\n",
    "    if diff == 0:\n",
    "        return 0\n",
    "    return diff/len(ns)\n",
    "        \n",
    "    "
   ]
  },
  {
   "cell_type": "code",
   "execution_count": 92,
   "metadata": {},
   "outputs": [],
   "source": [
    "#Calculate acousticness least squares diffrential from mean of all Pop/Rock songs every year\n",
    "def AcousticDiffRank(name):\n",
    "    prMeans = prSongs.groupby(['year']).mean()\n",
    "    prMeans = prMeans.reset_index()\n",
    "    prMeans = prMeans[prMeans['year'] > 1947]\n",
    "    ns = prSongs[prSongs['artist_names'] == name]\n",
    "    ns = ns.groupby(['year']).mean()\n",
    "    ns = ns.reset_index()\n",
    "    diff = 0\n",
    "    prMeans = prMeans[prMeans['year'].isin(list(ns['year']))]\n",
    "    prMeans = prMeans.reset_index(drop=True)\n",
    "    for count, val in enumerate(prMeans['acousticness']):\n",
    "        diff += (val - ns['acousticness'][count]) ** 2\n",
    "    if diff == 0:\n",
    "        return 0\n",
    "    return diff/len(ns)"
   ]
  },
  {
   "cell_type": "code",
   "execution_count": 93,
   "metadata": {},
   "outputs": [],
   "source": [
    "#AcousticDiffRank with visualization\n",
    "def acousticImportance(name):\n",
    "    prMeans = prSongs.groupby(['year']).mean()\n",
    "    prMeans = prMeans.reset_index()\n",
    "    prMeans = prMeans[prMeans['year'] > 1947]\n",
    "    ns = prSongs[prSongs['artist_names'] == name]\n",
    "    ns = ns.groupby(['year']).mean()\n",
    "    ns = ns.reset_index()\n",
    "    year = prMeans['year']\n",
    "    attribute = prMeans['acousticness']\n",
    "    nac = ns['acousticness']\n",
    "    nyear = ns['year']\n",
    "    plt.plot(year, attribute, 'ro')\n",
    "    plt.plot(nyear, nac, 'bo')\n",
    "    plt.plot(np.unique(year), np.poly1d(np.polyfit(year, attribute, 5))(np.unique(year)), '-r', label='All Pop/Rock')\n",
    "    plt.plot(np.unique(nyear), np.poly1d(np.polyfit(nyear, nac, 5))(np.unique(nyear)), '-b', label = name)\n",
    "    plt.ylabel('Acousticness')\n",
    "    plt.xlabel('Year')\n",
    "    plt.legend()\n",
    "    diff = 0\n",
    "    prMeans = prMeans[prMeans['year'].isin(list(ns['year']))]\n",
    "    prMeans = prMeans.reset_index(drop=True)\n",
    "    for count, val in enumerate(prMeans['acousticness']):\n",
    "        diff += (val - ns['acousticness'][count]) ** 2\n",
    "    if diff == 0:\n",
    "        return 0\n",
    "    return diff/len(ns)"
   ]
  },
  {
   "cell_type": "code",
   "execution_count": 94,
   "metadata": {},
   "outputs": [],
   "source": [
    "#PRDiffRank with visualization\n",
    "def importancetoPR(name):\n",
    "    prMeans = prSongs.groupby(['year']).mean()\n",
    "    prMeans = prMeans.reset_index()\n",
    "    prMeans = prMeans[prMeans['year'] > 1947]\n",
    "    ns = prSongs[prSongs['artist_names'] == name]\n",
    "    ns = ns.groupby(['year']).mean()\n",
    "    ns = ns.reset_index()\n",
    "    year = prMeans['year']\n",
    "    attribute = prMeans['mood']\n",
    "    nmood = ns['mood']\n",
    "    nyear = ns['year']\n",
    "    plt.plot(year, attribute, 'ro')\n",
    "    plt.plot(nyear, nmood, 'bo')\n",
    "    plt.plot(np.unique(year), np.poly1d(np.polyfit(year, attribute, 5))(np.unique(year)), '-r', label='All Pop/Rock')\n",
    "    plt.plot(np.unique(nyear), np.poly1d(np.polyfit(nyear, nmood, 5))(np.unique(nyear)), '-b', label = name)\n",
    "    plt.ylabel('Mood')\n",
    "    plt.xlabel('Year')\n",
    "    plt.legend()\n",
    "    diff = 0\n",
    "    prMeans = prMeans[prMeans['year'].isin(list(ns['year']))]\n",
    "    prMeans = prMeans.reset_index(drop=True)\n",
    "    for count, val in enumerate(prMeans['mood']):\n",
    "        diff += (val - ns['mood'][count]) ** 2\n",
    "    if diff == 0:\n",
    "        return 0\n",
    "    return diff/len(ns)"
   ]
  },
  {
   "cell_type": "code",
   "execution_count": 95,
   "metadata": {},
   "outputs": [
    {
     "name": "stderr",
     "output_type": "stream",
     "text": [
      "C:\\Users\\Michael\\Anaconda3\\lib\\site-packages\\ipykernel_launcher.py:3: SettingWithCopyWarning: \n",
      "A value is trying to be set on a copy of a slice from a DataFrame.\n",
      "Try using .loc[row_indexer,col_indexer] = value instead\n",
      "\n",
      "See the caveats in the documentation: http://pandas.pydata.org/pandas-docs/stable/user_guide/indexing.html#returning-a-view-versus-a-copy\n",
      "  This is separate from the ipykernel package so we can avoid doing imports until\n"
     ]
    },
    {
     "data": {
      "text/html": [
       "<div>\n",
       "<style scoped>\n",
       "    .dataframe tbody tr th:only-of-type {\n",
       "        vertical-align: middle;\n",
       "    }\n",
       "\n",
       "    .dataframe tbody tr th {\n",
       "        vertical-align: top;\n",
       "    }\n",
       "\n",
       "    .dataframe thead th {\n",
       "        text-align: right;\n",
       "    }\n",
       "</style>\n",
       "<table border=\"1\" class=\"dataframe\">\n",
       "  <thead>\n",
       "    <tr style=\"text-align: right;\">\n",
       "      <th></th>\n",
       "      <th>artist_name</th>\n",
       "      <th>artist_id</th>\n",
       "      <th>danceability</th>\n",
       "      <th>energy</th>\n",
       "      <th>valence</th>\n",
       "      <th>tempo</th>\n",
       "      <th>loudness</th>\n",
       "      <th>mode</th>\n",
       "      <th>key</th>\n",
       "      <th>acousticness</th>\n",
       "      <th>instrumentalness</th>\n",
       "      <th>liveness</th>\n",
       "      <th>speechiness</th>\n",
       "      <th>duration_ms</th>\n",
       "      <th>popularity</th>\n",
       "      <th>count</th>\n",
       "      <th>Diffrential</th>\n",
       "    </tr>\n",
       "  </thead>\n",
       "  <tbody>\n",
       "    <tr>\n",
       "      <td>0</td>\n",
       "      <td>The Yardbirds</td>\n",
       "      <td>489303</td>\n",
       "      <td>0.480548</td>\n",
       "      <td>0.638417</td>\n",
       "      <td>0.647690</td>\n",
       "      <td>123.367083</td>\n",
       "      <td>-10.635988</td>\n",
       "      <td>1</td>\n",
       "      <td>0</td>\n",
       "      <td>0.213877</td>\n",
       "      <td>0.169364</td>\n",
       "      <td>0.181681</td>\n",
       "      <td>0.057213</td>\n",
       "      <td>170852.7500</td>\n",
       "      <td>27.404762</td>\n",
       "      <td>84</td>\n",
       "      <td>0.008063</td>\n",
       "    </tr>\n",
       "    <tr>\n",
       "      <td>1</td>\n",
       "      <td>The Velvet Underground</td>\n",
       "      <td>840402</td>\n",
       "      <td>0.484079</td>\n",
       "      <td>0.503375</td>\n",
       "      <td>0.554967</td>\n",
       "      <td>115.886429</td>\n",
       "      <td>-11.817983</td>\n",
       "      <td>1</td>\n",
       "      <td>2</td>\n",
       "      <td>0.340720</td>\n",
       "      <td>0.167388</td>\n",
       "      <td>0.193360</td>\n",
       "      <td>0.042714</td>\n",
       "      <td>264561.5989</td>\n",
       "      <td>35.920904</td>\n",
       "      <td>177</td>\n",
       "      <td>0.014599</td>\n",
       "    </tr>\n",
       "    <tr>\n",
       "      <td>2</td>\n",
       "      <td>Led Zeppelin</td>\n",
       "      <td>139026</td>\n",
       "      <td>0.421562</td>\n",
       "      <td>0.688843</td>\n",
       "      <td>0.505988</td>\n",
       "      <td>118.887166</td>\n",
       "      <td>-10.202317</td>\n",
       "      <td>1</td>\n",
       "      <td>2</td>\n",
       "      <td>0.223537</td>\n",
       "      <td>0.158421</td>\n",
       "      <td>0.226333</td>\n",
       "      <td>0.062070</td>\n",
       "      <td>327086.2959</td>\n",
       "      <td>41.417160</td>\n",
       "      <td>676</td>\n",
       "      <td>0.017977</td>\n",
       "    </tr>\n",
       "    <tr>\n",
       "      <td>3</td>\n",
       "      <td>Elvis Presley</td>\n",
       "      <td>180228</td>\n",
       "      <td>0.495843</td>\n",
       "      <td>0.426308</td>\n",
       "      <td>0.621249</td>\n",
       "      <td>111.489453</td>\n",
       "      <td>-12.893730</td>\n",
       "      <td>1</td>\n",
       "      <td>0</td>\n",
       "      <td>0.741412</td>\n",
       "      <td>0.053623</td>\n",
       "      <td>0.247346</td>\n",
       "      <td>0.058278</td>\n",
       "      <td>156211.0354</td>\n",
       "      <td>33.391919</td>\n",
       "      <td>990</td>\n",
       "      <td>0.018962</td>\n",
       "    </tr>\n",
       "    <tr>\n",
       "      <td>4</td>\n",
       "      <td>The Beatles</td>\n",
       "      <td>754032</td>\n",
       "      <td>0.521975</td>\n",
       "      <td>0.546827</td>\n",
       "      <td>0.619660</td>\n",
       "      <td>121.074746</td>\n",
       "      <td>-9.682696</td>\n",
       "      <td>1</td>\n",
       "      <td>0</td>\n",
       "      <td>0.360356</td>\n",
       "      <td>0.051906</td>\n",
       "      <td>0.223001</td>\n",
       "      <td>0.053395</td>\n",
       "      <td>174307.8700</td>\n",
       "      <td>48.060753</td>\n",
       "      <td>823</td>\n",
       "      <td>0.025045</td>\n",
       "    </tr>\n",
       "    <tr>\n",
       "      <td>5</td>\n",
       "      <td>Neil Young</td>\n",
       "      <td>379125</td>\n",
       "      <td>0.511677</td>\n",
       "      <td>0.397089</td>\n",
       "      <td>0.494641</td>\n",
       "      <td>126.167687</td>\n",
       "      <td>-12.942327</td>\n",
       "      <td>1</td>\n",
       "      <td>7</td>\n",
       "      <td>0.460809</td>\n",
       "      <td>0.046176</td>\n",
       "      <td>0.256286</td>\n",
       "      <td>0.037686</td>\n",
       "      <td>254191.5612</td>\n",
       "      <td>38.605442</td>\n",
       "      <td>294</td>\n",
       "      <td>0.025714</td>\n",
       "    </tr>\n",
       "    <tr>\n",
       "      <td>6</td>\n",
       "      <td>The Byrds</td>\n",
       "      <td>631774</td>\n",
       "      <td>0.469870</td>\n",
       "      <td>0.579786</td>\n",
       "      <td>0.662279</td>\n",
       "      <td>120.569389</td>\n",
       "      <td>-10.160832</td>\n",
       "      <td>1</td>\n",
       "      <td>2</td>\n",
       "      <td>0.334328</td>\n",
       "      <td>0.059134</td>\n",
       "      <td>0.239382</td>\n",
       "      <td>0.037782</td>\n",
       "      <td>167257.4122</td>\n",
       "      <td>27.984733</td>\n",
       "      <td>262</td>\n",
       "      <td>0.029907</td>\n",
       "    </tr>\n",
       "    <tr>\n",
       "      <td>7</td>\n",
       "      <td>The Who</td>\n",
       "      <td>577627</td>\n",
       "      <td>0.472035</td>\n",
       "      <td>0.723826</td>\n",
       "      <td>0.503840</td>\n",
       "      <td>127.244012</td>\n",
       "      <td>-8.821012</td>\n",
       "      <td>1</td>\n",
       "      <td>2</td>\n",
       "      <td>0.223892</td>\n",
       "      <td>0.069392</td>\n",
       "      <td>0.252488</td>\n",
       "      <td>0.062551</td>\n",
       "      <td>239976.7066</td>\n",
       "      <td>29.768340</td>\n",
       "      <td>518</td>\n",
       "      <td>0.030379</td>\n",
       "    </tr>\n",
       "    <tr>\n",
       "      <td>8</td>\n",
       "      <td>Bob Dylan</td>\n",
       "      <td>66915</td>\n",
       "      <td>0.512598</td>\n",
       "      <td>0.477932</td>\n",
       "      <td>0.551934</td>\n",
       "      <td>126.160149</td>\n",
       "      <td>-11.184330</td>\n",
       "      <td>1</td>\n",
       "      <td>7</td>\n",
       "      <td>0.562567</td>\n",
       "      <td>0.034211</td>\n",
       "      <td>0.308978</td>\n",
       "      <td>0.064535</td>\n",
       "      <td>256713.4203</td>\n",
       "      <td>30.860806</td>\n",
       "      <td>1092</td>\n",
       "      <td>0.031249</td>\n",
       "    </tr>\n",
       "    <tr>\n",
       "      <td>9</td>\n",
       "      <td>The Rolling Stones</td>\n",
       "      <td>894465</td>\n",
       "      <td>0.524446</td>\n",
       "      <td>0.719915</td>\n",
       "      <td>0.655332</td>\n",
       "      <td>123.764717</td>\n",
       "      <td>-7.830265</td>\n",
       "      <td>1</td>\n",
       "      <td>0</td>\n",
       "      <td>0.293788</td>\n",
       "      <td>0.176137</td>\n",
       "      <td>0.268443</td>\n",
       "      <td>0.051440</td>\n",
       "      <td>229705.9623</td>\n",
       "      <td>34.573913</td>\n",
       "      <td>1035</td>\n",
       "      <td>0.033132</td>\n",
       "    </tr>\n",
       "    <tr>\n",
       "      <td>10</td>\n",
       "      <td>The Kinks</td>\n",
       "      <td>100160</td>\n",
       "      <td>0.547176</td>\n",
       "      <td>0.707960</td>\n",
       "      <td>0.675530</td>\n",
       "      <td>122.030543</td>\n",
       "      <td>-8.109783</td>\n",
       "      <td>1</td>\n",
       "      <td>7</td>\n",
       "      <td>0.296287</td>\n",
       "      <td>0.022411</td>\n",
       "      <td>0.183462</td>\n",
       "      <td>0.055244</td>\n",
       "      <td>186075.7285</td>\n",
       "      <td>29.977376</td>\n",
       "      <td>442</td>\n",
       "      <td>0.037278</td>\n",
       "    </tr>\n",
       "    <tr>\n",
       "      <td>11</td>\n",
       "      <td>Buddy Holly</td>\n",
       "      <td>538677</td>\n",
       "      <td>0.586158</td>\n",
       "      <td>0.557567</td>\n",
       "      <td>0.732281</td>\n",
       "      <td>120.732509</td>\n",
       "      <td>-9.515404</td>\n",
       "      <td>1</td>\n",
       "      <td>9</td>\n",
       "      <td>0.542532</td>\n",
       "      <td>0.050561</td>\n",
       "      <td>0.171765</td>\n",
       "      <td>0.045586</td>\n",
       "      <td>132186.9123</td>\n",
       "      <td>32.614035</td>\n",
       "      <td>114</td>\n",
       "      <td>0.050911</td>\n",
       "    </tr>\n",
       "    <tr>\n",
       "      <td>12</td>\n",
       "      <td>Roxy Music</td>\n",
       "      <td>852855</td>\n",
       "      <td>0.544614</td>\n",
       "      <td>0.705421</td>\n",
       "      <td>0.569796</td>\n",
       "      <td>118.601982</td>\n",
       "      <td>-7.715246</td>\n",
       "      <td>1</td>\n",
       "      <td>0</td>\n",
       "      <td>0.216935</td>\n",
       "      <td>0.167444</td>\n",
       "      <td>0.163277</td>\n",
       "      <td>0.050700</td>\n",
       "      <td>270257.2105</td>\n",
       "      <td>39.210526</td>\n",
       "      <td>114</td>\n",
       "      <td>0.055019</td>\n",
       "    </tr>\n",
       "    <tr>\n",
       "      <td>13</td>\n",
       "      <td>MC5</td>\n",
       "      <td>182598</td>\n",
       "      <td>0.420368</td>\n",
       "      <td>0.771421</td>\n",
       "      <td>0.628158</td>\n",
       "      <td>125.009526</td>\n",
       "      <td>-8.078105</td>\n",
       "      <td>1</td>\n",
       "      <td>2</td>\n",
       "      <td>0.187765</td>\n",
       "      <td>0.059437</td>\n",
       "      <td>0.401511</td>\n",
       "      <td>0.063453</td>\n",
       "      <td>225523.3158</td>\n",
       "      <td>30.947368</td>\n",
       "      <td>38</td>\n",
       "      <td>0.055763</td>\n",
       "    </tr>\n",
       "    <tr>\n",
       "      <td>14</td>\n",
       "      <td>Cream</td>\n",
       "      <td>112462</td>\n",
       "      <td>0.436184</td>\n",
       "      <td>0.560395</td>\n",
       "      <td>0.572026</td>\n",
       "      <td>124.187553</td>\n",
       "      <td>-13.135105</td>\n",
       "      <td>1</td>\n",
       "      <td>7</td>\n",
       "      <td>0.267302</td>\n",
       "      <td>0.115986</td>\n",
       "      <td>0.287992</td>\n",
       "      <td>0.044347</td>\n",
       "      <td>276187.1053</td>\n",
       "      <td>38.973684</td>\n",
       "      <td>76</td>\n",
       "      <td>0.057387</td>\n",
       "    </tr>\n",
       "    <tr>\n",
       "      <td>15</td>\n",
       "      <td>The Beach Boys</td>\n",
       "      <td>41874</td>\n",
       "      <td>0.502945</td>\n",
       "      <td>0.532131</td>\n",
       "      <td>0.633957</td>\n",
       "      <td>125.992036</td>\n",
       "      <td>-9.925742</td>\n",
       "      <td>1</td>\n",
       "      <td>9</td>\n",
       "      <td>0.398488</td>\n",
       "      <td>0.115363</td>\n",
       "      <td>0.191189</td>\n",
       "      <td>0.043971</td>\n",
       "      <td>148845.0946</td>\n",
       "      <td>27.957746</td>\n",
       "      <td>994</td>\n",
       "      <td>0.058115</td>\n",
       "    </tr>\n",
       "    <tr>\n",
       "      <td>16</td>\n",
       "      <td>David Bowie</td>\n",
       "      <td>531986</td>\n",
       "      <td>0.497813</td>\n",
       "      <td>0.595268</td>\n",
       "      <td>0.547634</td>\n",
       "      <td>122.769713</td>\n",
       "      <td>-11.261769</td>\n",
       "      <td>1</td>\n",
       "      <td>0</td>\n",
       "      <td>0.254577</td>\n",
       "      <td>0.076402</td>\n",
       "      <td>0.208975</td>\n",
       "      <td>0.059766</td>\n",
       "      <td>242765.4619</td>\n",
       "      <td>41.728700</td>\n",
       "      <td>446</td>\n",
       "      <td>0.058704</td>\n",
       "    </tr>\n",
       "    <tr>\n",
       "      <td>17</td>\n",
       "      <td>The Band</td>\n",
       "      <td>38490</td>\n",
       "      <td>0.550152</td>\n",
       "      <td>0.624270</td>\n",
       "      <td>0.632282</td>\n",
       "      <td>119.282261</td>\n",
       "      <td>-9.367265</td>\n",
       "      <td>1</td>\n",
       "      <td>0</td>\n",
       "      <td>0.380960</td>\n",
       "      <td>0.040831</td>\n",
       "      <td>0.284982</td>\n",
       "      <td>0.063417</td>\n",
       "      <td>247693.8341</td>\n",
       "      <td>32.260664</td>\n",
       "      <td>211</td>\n",
       "      <td>0.063524</td>\n",
       "    </tr>\n",
       "    <tr>\n",
       "      <td>18</td>\n",
       "      <td>Jerry Lee Lewis</td>\n",
       "      <td>332141</td>\n",
       "      <td>0.506290</td>\n",
       "      <td>0.676275</td>\n",
       "      <td>0.751319</td>\n",
       "      <td>115.911797</td>\n",
       "      <td>-9.392551</td>\n",
       "      <td>1</td>\n",
       "      <td>0</td>\n",
       "      <td>0.581420</td>\n",
       "      <td>0.011824</td>\n",
       "      <td>0.271314</td>\n",
       "      <td>0.055530</td>\n",
       "      <td>153289.9420</td>\n",
       "      <td>24.478261</td>\n",
       "      <td>138</td>\n",
       "      <td>0.063814</td>\n",
       "    </tr>\n",
       "    <tr>\n",
       "      <td>19</td>\n",
       "      <td>The Stooges</td>\n",
       "      <td>562304</td>\n",
       "      <td>0.385821</td>\n",
       "      <td>0.764436</td>\n",
       "      <td>0.450233</td>\n",
       "      <td>122.538410</td>\n",
       "      <td>-7.061026</td>\n",
       "      <td>1</td>\n",
       "      <td>2</td>\n",
       "      <td>0.010889</td>\n",
       "      <td>0.204486</td>\n",
       "      <td>0.227441</td>\n",
       "      <td>0.063141</td>\n",
       "      <td>266561.8205</td>\n",
       "      <td>35.333333</td>\n",
       "      <td>78</td>\n",
       "      <td>0.069406</td>\n",
       "    </tr>\n",
       "    <tr>\n",
       "      <td>20</td>\n",
       "      <td>The Everly Brothers</td>\n",
       "      <td>46699</td>\n",
       "      <td>0.534642</td>\n",
       "      <td>0.415209</td>\n",
       "      <td>0.632228</td>\n",
       "      <td>116.076075</td>\n",
       "      <td>-12.629672</td>\n",
       "      <td>1</td>\n",
       "      <td>4</td>\n",
       "      <td>0.631588</td>\n",
       "      <td>0.000233</td>\n",
       "      <td>0.179648</td>\n",
       "      <td>0.032081</td>\n",
       "      <td>151269.7015</td>\n",
       "      <td>27.432836</td>\n",
       "      <td>134</td>\n",
       "      <td>0.077412</td>\n",
       "    </tr>\n",
       "    <tr>\n",
       "      <td>21</td>\n",
       "      <td>The Clash</td>\n",
       "      <td>75747</td>\n",
       "      <td>0.587847</td>\n",
       "      <td>0.720985</td>\n",
       "      <td>0.723191</td>\n",
       "      <td>135.973084</td>\n",
       "      <td>-9.640061</td>\n",
       "      <td>1</td>\n",
       "      <td>0</td>\n",
       "      <td>0.168646</td>\n",
       "      <td>0.097506</td>\n",
       "      <td>0.216042</td>\n",
       "      <td>0.079187</td>\n",
       "      <td>211560.8168</td>\n",
       "      <td>37.129771</td>\n",
       "      <td>262</td>\n",
       "      <td>0.078958</td>\n",
       "    </tr>\n",
       "    <tr>\n",
       "      <td>22</td>\n",
       "      <td>The Shadows</td>\n",
       "      <td>496405</td>\n",
       "      <td>0.522360</td>\n",
       "      <td>0.548520</td>\n",
       "      <td>0.678440</td>\n",
       "      <td>127.833000</td>\n",
       "      <td>-8.947560</td>\n",
       "      <td>1</td>\n",
       "      <td>9</td>\n",
       "      <td>0.411624</td>\n",
       "      <td>0.405904</td>\n",
       "      <td>0.187284</td>\n",
       "      <td>0.034892</td>\n",
       "      <td>152000.5600</td>\n",
       "      <td>36.960000</td>\n",
       "      <td>50</td>\n",
       "      <td>0.092729</td>\n",
       "    </tr>\n",
       "    <tr>\n",
       "      <td>23</td>\n",
       "      <td>Roy Orbison</td>\n",
       "      <td>852007</td>\n",
       "      <td>0.476181</td>\n",
       "      <td>0.473665</td>\n",
       "      <td>0.597291</td>\n",
       "      <td>113.254830</td>\n",
       "      <td>-9.974555</td>\n",
       "      <td>1</td>\n",
       "      <td>9</td>\n",
       "      <td>0.662681</td>\n",
       "      <td>0.007967</td>\n",
       "      <td>0.198232</td>\n",
       "      <td>0.033090</td>\n",
       "      <td>160620.7143</td>\n",
       "      <td>31.835165</td>\n",
       "      <td>182</td>\n",
       "      <td>0.094514</td>\n",
       "    </tr>\n",
       "    <tr>\n",
       "      <td>24</td>\n",
       "      <td>Sex Pistols</td>\n",
       "      <td>418740</td>\n",
       "      <td>0.294263</td>\n",
       "      <td>0.939000</td>\n",
       "      <td>0.401316</td>\n",
       "      <td>144.990421</td>\n",
       "      <td>-5.915211</td>\n",
       "      <td>1</td>\n",
       "      <td>9</td>\n",
       "      <td>0.026918</td>\n",
       "      <td>0.039091</td>\n",
       "      <td>0.234321</td>\n",
       "      <td>0.107358</td>\n",
       "      <td>197452.5263</td>\n",
       "      <td>36.105263</td>\n",
       "      <td>38</td>\n",
       "      <td>0.103178</td>\n",
       "    </tr>\n",
       "    <tr>\n",
       "      <td>25</td>\n",
       "      <td>Jimi Hendrix</td>\n",
       "      <td>354105</td>\n",
       "      <td>0.424589</td>\n",
       "      <td>0.716461</td>\n",
       "      <td>0.539210</td>\n",
       "      <td>120.287094</td>\n",
       "      <td>-8.709449</td>\n",
       "      <td>1</td>\n",
       "      <td>8</td>\n",
       "      <td>0.211139</td>\n",
       "      <td>0.173331</td>\n",
       "      <td>0.266326</td>\n",
       "      <td>0.098660</td>\n",
       "      <td>247888.3645</td>\n",
       "      <td>42.345794</td>\n",
       "      <td>214</td>\n",
       "      <td>0.112407</td>\n",
       "    </tr>\n",
       "    <tr>\n",
       "      <td>26</td>\n",
       "      <td>Little Richard</td>\n",
       "      <td>824022</td>\n",
       "      <td>0.561571</td>\n",
       "      <td>0.605827</td>\n",
       "      <td>0.791214</td>\n",
       "      <td>122.419959</td>\n",
       "      <td>-8.870214</td>\n",
       "      <td>1</td>\n",
       "      <td>0</td>\n",
       "      <td>0.537076</td>\n",
       "      <td>0.010753</td>\n",
       "      <td>0.197991</td>\n",
       "      <td>0.074912</td>\n",
       "      <td>168048.3776</td>\n",
       "      <td>27.295918</td>\n",
       "      <td>196</td>\n",
       "      <td>0.131237</td>\n",
       "    </tr>\n",
       "    <tr>\n",
       "      <td>27</td>\n",
       "      <td>Black Sabbath</td>\n",
       "      <td>771438</td>\n",
       "      <td>0.347427</td>\n",
       "      <td>0.625708</td>\n",
       "      <td>0.414307</td>\n",
       "      <td>128.241218</td>\n",
       "      <td>-11.726091</td>\n",
       "      <td>1</td>\n",
       "      <td>9</td>\n",
       "      <td>0.137177</td>\n",
       "      <td>0.152760</td>\n",
       "      <td>0.195839</td>\n",
       "      <td>0.051713</td>\n",
       "      <td>319529.9545</td>\n",
       "      <td>35.672727</td>\n",
       "      <td>220</td>\n",
       "      <td>0.132099</td>\n",
       "    </tr>\n",
       "    <tr>\n",
       "      <td>28</td>\n",
       "      <td>Bo Diddley</td>\n",
       "      <td>55128</td>\n",
       "      <td>0.656250</td>\n",
       "      <td>0.580796</td>\n",
       "      <td>0.706010</td>\n",
       "      <td>113.608390</td>\n",
       "      <td>-12.222890</td>\n",
       "      <td>1</td>\n",
       "      <td>1</td>\n",
       "      <td>0.461112</td>\n",
       "      <td>0.022897</td>\n",
       "      <td>0.162061</td>\n",
       "      <td>0.057821</td>\n",
       "      <td>181205.8500</td>\n",
       "      <td>23.960000</td>\n",
       "      <td>100</td>\n",
       "      <td>0.136617</td>\n",
       "    </tr>\n",
       "    <tr>\n",
       "      <td>29</td>\n",
       "      <td>Pink Floyd</td>\n",
       "      <td>346336</td>\n",
       "      <td>0.383258</td>\n",
       "      <td>0.415595</td>\n",
       "      <td>0.257658</td>\n",
       "      <td>116.325406</td>\n",
       "      <td>-15.177952</td>\n",
       "      <td>1</td>\n",
       "      <td>7</td>\n",
       "      <td>0.388336</td>\n",
       "      <td>0.299681</td>\n",
       "      <td>0.353277</td>\n",
       "      <td>0.059263</td>\n",
       "      <td>313983.4928</td>\n",
       "      <td>45.289855</td>\n",
       "      <td>414</td>\n",
       "      <td>0.159936</td>\n",
       "    </tr>\n",
       "    <tr>\n",
       "      <td>30</td>\n",
       "      <td>Chuck Berry</td>\n",
       "      <td>120521</td>\n",
       "      <td>0.627402</td>\n",
       "      <td>0.616434</td>\n",
       "      <td>0.809753</td>\n",
       "      <td>126.192406</td>\n",
       "      <td>-10.259329</td>\n",
       "      <td>1</td>\n",
       "      <td>0</td>\n",
       "      <td>0.683166</td>\n",
       "      <td>0.120010</td>\n",
       "      <td>0.192289</td>\n",
       "      <td>0.061202</td>\n",
       "      <td>157233.2922</td>\n",
       "      <td>29.721461</td>\n",
       "      <td>219</td>\n",
       "      <td>0.173249</td>\n",
       "    </tr>\n",
       "    <tr>\n",
       "      <td>31</td>\n",
       "      <td>Brian Eno</td>\n",
       "      <td>617196</td>\n",
       "      <td>0.315284</td>\n",
       "      <td>0.261930</td>\n",
       "      <td>0.233121</td>\n",
       "      <td>104.060371</td>\n",
       "      <td>-21.529166</td>\n",
       "      <td>1</td>\n",
       "      <td>0</td>\n",
       "      <td>0.688064</td>\n",
       "      <td>0.653108</td>\n",
       "      <td>0.154937</td>\n",
       "      <td>0.045024</td>\n",
       "      <td>314970.1179</td>\n",
       "      <td>35.235808</td>\n",
       "      <td>229</td>\n",
       "      <td>0.420490</td>\n",
       "    </tr>\n",
       "  </tbody>\n",
       "</table>\n",
       "</div>"
      ],
      "text/plain": [
       "               artist_name  artist_id  danceability    energy   valence  \\\n",
       "0            The Yardbirds     489303      0.480548  0.638417  0.647690   \n",
       "1   The Velvet Underground     840402      0.484079  0.503375  0.554967   \n",
       "2             Led Zeppelin     139026      0.421562  0.688843  0.505988   \n",
       "3            Elvis Presley     180228      0.495843  0.426308  0.621249   \n",
       "4              The Beatles     754032      0.521975  0.546827  0.619660   \n",
       "5               Neil Young     379125      0.511677  0.397089  0.494641   \n",
       "6                The Byrds     631774      0.469870  0.579786  0.662279   \n",
       "7                  The Who     577627      0.472035  0.723826  0.503840   \n",
       "8                Bob Dylan      66915      0.512598  0.477932  0.551934   \n",
       "9       The Rolling Stones     894465      0.524446  0.719915  0.655332   \n",
       "10               The Kinks     100160      0.547176  0.707960  0.675530   \n",
       "11             Buddy Holly     538677      0.586158  0.557567  0.732281   \n",
       "12              Roxy Music     852855      0.544614  0.705421  0.569796   \n",
       "13                     MC5     182598      0.420368  0.771421  0.628158   \n",
       "14                   Cream     112462      0.436184  0.560395  0.572026   \n",
       "15          The Beach Boys      41874      0.502945  0.532131  0.633957   \n",
       "16             David Bowie     531986      0.497813  0.595268  0.547634   \n",
       "17                The Band      38490      0.550152  0.624270  0.632282   \n",
       "18         Jerry Lee Lewis     332141      0.506290  0.676275  0.751319   \n",
       "19             The Stooges     562304      0.385821  0.764436  0.450233   \n",
       "20     The Everly Brothers      46699      0.534642  0.415209  0.632228   \n",
       "21               The Clash      75747      0.587847  0.720985  0.723191   \n",
       "22             The Shadows     496405      0.522360  0.548520  0.678440   \n",
       "23             Roy Orbison     852007      0.476181  0.473665  0.597291   \n",
       "24             Sex Pistols     418740      0.294263  0.939000  0.401316   \n",
       "25            Jimi Hendrix     354105      0.424589  0.716461  0.539210   \n",
       "26          Little Richard     824022      0.561571  0.605827  0.791214   \n",
       "27           Black Sabbath     771438      0.347427  0.625708  0.414307   \n",
       "28              Bo Diddley      55128      0.656250  0.580796  0.706010   \n",
       "29              Pink Floyd     346336      0.383258  0.415595  0.257658   \n",
       "30             Chuck Berry     120521      0.627402  0.616434  0.809753   \n",
       "31               Brian Eno     617196      0.315284  0.261930  0.233121   \n",
       "\n",
       "         tempo   loudness  mode  key  acousticness  instrumentalness  \\\n",
       "0   123.367083 -10.635988     1    0      0.213877          0.169364   \n",
       "1   115.886429 -11.817983     1    2      0.340720          0.167388   \n",
       "2   118.887166 -10.202317     1    2      0.223537          0.158421   \n",
       "3   111.489453 -12.893730     1    0      0.741412          0.053623   \n",
       "4   121.074746  -9.682696     1    0      0.360356          0.051906   \n",
       "5   126.167687 -12.942327     1    7      0.460809          0.046176   \n",
       "6   120.569389 -10.160832     1    2      0.334328          0.059134   \n",
       "7   127.244012  -8.821012     1    2      0.223892          0.069392   \n",
       "8   126.160149 -11.184330     1    7      0.562567          0.034211   \n",
       "9   123.764717  -7.830265     1    0      0.293788          0.176137   \n",
       "10  122.030543  -8.109783     1    7      0.296287          0.022411   \n",
       "11  120.732509  -9.515404     1    9      0.542532          0.050561   \n",
       "12  118.601982  -7.715246     1    0      0.216935          0.167444   \n",
       "13  125.009526  -8.078105     1    2      0.187765          0.059437   \n",
       "14  124.187553 -13.135105     1    7      0.267302          0.115986   \n",
       "15  125.992036  -9.925742     1    9      0.398488          0.115363   \n",
       "16  122.769713 -11.261769     1    0      0.254577          0.076402   \n",
       "17  119.282261  -9.367265     1    0      0.380960          0.040831   \n",
       "18  115.911797  -9.392551     1    0      0.581420          0.011824   \n",
       "19  122.538410  -7.061026     1    2      0.010889          0.204486   \n",
       "20  116.076075 -12.629672     1    4      0.631588          0.000233   \n",
       "21  135.973084  -9.640061     1    0      0.168646          0.097506   \n",
       "22  127.833000  -8.947560     1    9      0.411624          0.405904   \n",
       "23  113.254830  -9.974555     1    9      0.662681          0.007967   \n",
       "24  144.990421  -5.915211     1    9      0.026918          0.039091   \n",
       "25  120.287094  -8.709449     1    8      0.211139          0.173331   \n",
       "26  122.419959  -8.870214     1    0      0.537076          0.010753   \n",
       "27  128.241218 -11.726091     1    9      0.137177          0.152760   \n",
       "28  113.608390 -12.222890     1    1      0.461112          0.022897   \n",
       "29  116.325406 -15.177952     1    7      0.388336          0.299681   \n",
       "30  126.192406 -10.259329     1    0      0.683166          0.120010   \n",
       "31  104.060371 -21.529166     1    0      0.688064          0.653108   \n",
       "\n",
       "    liveness  speechiness  duration_ms  popularity  count  Diffrential  \n",
       "0   0.181681     0.057213  170852.7500   27.404762     84     0.008063  \n",
       "1   0.193360     0.042714  264561.5989   35.920904    177     0.014599  \n",
       "2   0.226333     0.062070  327086.2959   41.417160    676     0.017977  \n",
       "3   0.247346     0.058278  156211.0354   33.391919    990     0.018962  \n",
       "4   0.223001     0.053395  174307.8700   48.060753    823     0.025045  \n",
       "5   0.256286     0.037686  254191.5612   38.605442    294     0.025714  \n",
       "6   0.239382     0.037782  167257.4122   27.984733    262     0.029907  \n",
       "7   0.252488     0.062551  239976.7066   29.768340    518     0.030379  \n",
       "8   0.308978     0.064535  256713.4203   30.860806   1092     0.031249  \n",
       "9   0.268443     0.051440  229705.9623   34.573913   1035     0.033132  \n",
       "10  0.183462     0.055244  186075.7285   29.977376    442     0.037278  \n",
       "11  0.171765     0.045586  132186.9123   32.614035    114     0.050911  \n",
       "12  0.163277     0.050700  270257.2105   39.210526    114     0.055019  \n",
       "13  0.401511     0.063453  225523.3158   30.947368     38     0.055763  \n",
       "14  0.287992     0.044347  276187.1053   38.973684     76     0.057387  \n",
       "15  0.191189     0.043971  148845.0946   27.957746    994     0.058115  \n",
       "16  0.208975     0.059766  242765.4619   41.728700    446     0.058704  \n",
       "17  0.284982     0.063417  247693.8341   32.260664    211     0.063524  \n",
       "18  0.271314     0.055530  153289.9420   24.478261    138     0.063814  \n",
       "19  0.227441     0.063141  266561.8205   35.333333     78     0.069406  \n",
       "20  0.179648     0.032081  151269.7015   27.432836    134     0.077412  \n",
       "21  0.216042     0.079187  211560.8168   37.129771    262     0.078958  \n",
       "22  0.187284     0.034892  152000.5600   36.960000     50     0.092729  \n",
       "23  0.198232     0.033090  160620.7143   31.835165    182     0.094514  \n",
       "24  0.234321     0.107358  197452.5263   36.105263     38     0.103178  \n",
       "25  0.266326     0.098660  247888.3645   42.345794    214     0.112407  \n",
       "26  0.197991     0.074912  168048.3776   27.295918    196     0.131237  \n",
       "27  0.195839     0.051713  319529.9545   35.672727    220     0.132099  \n",
       "28  0.162061     0.057821  181205.8500   23.960000    100     0.136617  \n",
       "29  0.353277     0.059263  313983.4928   45.289855    414     0.159936  \n",
       "30  0.192289     0.061202  157233.2922   29.721461    219     0.173249  \n",
       "31  0.154937     0.045024  314970.1179   35.235808    229     0.420490  "
      ]
     },
     "execution_count": 95,
     "metadata": {},
     "output_type": "execute_result"
    }
   ],
   "source": [
    "#Influential Pop/Rock artists sorted by ascending mood diffrential\n",
    "prArtistsDF = artists[artists['artist_name'].isin(prArtists)]\n",
    "prArtistsDF['Diffrential'] = prArtistsDF['artist_name'].apply(PRDiffRank)\n",
    "prArtistsDF = prArtistsDF.sort_values(by=['Diffrential'])\n",
    "prArtistsDF = prArtistsDF.reset_index(drop=True)\n",
    "prArtistsDF = prArtistsDF[prArtistsDF['Diffrential'] > 0]\n",
    "prLegends = []\n",
    "for i in prArtistsDF['artist_name']:\n",
    "        df = totalInfluence[totalInfluence['names'] == i]\n",
    "        if len(df) > 0:\n",
    "            index = df.index[0]\n",
    "            if index < 0.01 * len(totalInfluence):\n",
    "                prLegends.append(i) \n",
    "prLegendsDF = prArtistsDF[prArtistsDF['artist_name'].isin(prLegends)]\n",
    "prLegendsDF = prLegendsDF.reset_index(drop=True)\n",
    "prLegendsDF"
   ]
  },
  {
   "cell_type": "code",
   "execution_count": 96,
   "metadata": {},
   "outputs": [
    {
     "data": {
      "text/plain": [
       "0.017977174972034073"
      ]
     },
     "execution_count": 96,
     "metadata": {},
     "output_type": "execute_result"
    },
    {
     "data": {
      "image/png": "[encoded data removed]",
      "text/plain": [
       "<Figure size 432x288 with 1 Axes>"
      ]
     },
     "metadata": {
      "needs_background": "light"
     },
     "output_type": "display_data"
    }
   ],
   "source": [
    "importancetoPR('Led Zeppelin')"
   ]
  },
  {
   "cell_type": "code",
   "execution_count": 97,
   "metadata": {},
   "outputs": [
    {
     "data": {
      "text/plain": [
       "0.4204896110038246"
      ]
     },
     "execution_count": 97,
     "metadata": {},
     "output_type": "execute_result"
    },
    {
     "data": {
      "image/png": "[encoded data removed]",
      "text/plain": [
       "<Figure size 432x288 with 1 Axes>"
      ]
     },
     "metadata": {
      "needs_background": "light"
     },
     "output_type": "display_data"
    }
   ],
   "source": [
    "importancetoPR('Brian Eno')"
   ]
  },
  {
   "cell_type": "code",
   "execution_count": 100,
   "metadata": {},
   "outputs": [
    {
     "name": "stderr",
     "output_type": "stream",
     "text": [
      "C:\\Users\\Michael\\Anaconda3\\lib\\site-packages\\ipykernel_launcher.py:3: SettingWithCopyWarning: \n",
      "A value is trying to be set on a copy of a slice from a DataFrame.\n",
      "Try using .loc[row_indexer,col_indexer] = value instead\n",
      "\n",
      "See the caveats in the documentation: http://pandas.pydata.org/pandas-docs/stable/user_guide/indexing.html#returning-a-view-versus-a-copy\n",
      "  This is separate from the ipykernel package so we can avoid doing imports until\n"
     ]
    },
    {
     "data": {
      "text/html": [
       "<div>\n",
       "<style scoped>\n",
       "    .dataframe tbody tr th:only-of-type {\n",
       "        vertical-align: middle;\n",
       "    }\n",
       "\n",
       "    .dataframe tbody tr th {\n",
       "        vertical-align: top;\n",
       "    }\n",
       "\n",
       "    .dataframe thead th {\n",
       "        text-align: right;\n",
       "    }\n",
       "</style>\n",
       "<table border=\"1\" class=\"dataframe\">\n",
       "  <thead>\n",
       "    <tr style=\"text-align: right;\">\n",
       "      <th></th>\n",
       "      <th>artist_name</th>\n",
       "      <th>artist_id</th>\n",
       "      <th>danceability</th>\n",
       "      <th>energy</th>\n",
       "      <th>valence</th>\n",
       "      <th>tempo</th>\n",
       "      <th>loudness</th>\n",
       "      <th>mode</th>\n",
       "      <th>key</th>\n",
       "      <th>acousticness</th>\n",
       "      <th>instrumentalness</th>\n",
       "      <th>liveness</th>\n",
       "      <th>speechiness</th>\n",
       "      <th>duration_ms</th>\n",
       "      <th>popularity</th>\n",
       "      <th>count</th>\n",
       "      <th>Diffrential</th>\n",
       "    </tr>\n",
       "  </thead>\n",
       "  <tbody>\n",
       "    <tr>\n",
       "      <td>0</td>\n",
       "      <td>The Band</td>\n",
       "      <td>38490</td>\n",
       "      <td>0.550152</td>\n",
       "      <td>0.624270</td>\n",
       "      <td>0.632282</td>\n",
       "      <td>119.282261</td>\n",
       "      <td>-9.367265</td>\n",
       "      <td>1</td>\n",
       "      <td>0</td>\n",
       "      <td>0.380960</td>\n",
       "      <td>0.040831</td>\n",
       "      <td>0.284982</td>\n",
       "      <td>0.063417</td>\n",
       "      <td>247693.8341</td>\n",
       "      <td>32.260664</td>\n",
       "      <td>211</td>\n",
       "      <td>0.010730</td>\n",
       "    </tr>\n",
       "    <tr>\n",
       "      <td>1</td>\n",
       "      <td>Little Richard</td>\n",
       "      <td>824022</td>\n",
       "      <td>0.561571</td>\n",
       "      <td>0.605827</td>\n",
       "      <td>0.791214</td>\n",
       "      <td>122.419959</td>\n",
       "      <td>-8.870214</td>\n",
       "      <td>1</td>\n",
       "      <td>0</td>\n",
       "      <td>0.537076</td>\n",
       "      <td>0.010753</td>\n",
       "      <td>0.197991</td>\n",
       "      <td>0.074912</td>\n",
       "      <td>168048.3776</td>\n",
       "      <td>27.295918</td>\n",
       "      <td>196</td>\n",
       "      <td>0.012294</td>\n",
       "    </tr>\n",
       "    <tr>\n",
       "      <td>2</td>\n",
       "      <td>Led Zeppelin</td>\n",
       "      <td>139026</td>\n",
       "      <td>0.421562</td>\n",
       "      <td>0.688843</td>\n",
       "      <td>0.505988</td>\n",
       "      <td>118.887166</td>\n",
       "      <td>-10.202317</td>\n",
       "      <td>1</td>\n",
       "      <td>2</td>\n",
       "      <td>0.223537</td>\n",
       "      <td>0.158421</td>\n",
       "      <td>0.226333</td>\n",
       "      <td>0.062070</td>\n",
       "      <td>327086.2959</td>\n",
       "      <td>41.417160</td>\n",
       "      <td>676</td>\n",
       "      <td>0.013928</td>\n",
       "    </tr>\n",
       "    <tr>\n",
       "      <td>3</td>\n",
       "      <td>The Rolling Stones</td>\n",
       "      <td>894465</td>\n",
       "      <td>0.524446</td>\n",
       "      <td>0.719915</td>\n",
       "      <td>0.655332</td>\n",
       "      <td>123.764717</td>\n",
       "      <td>-7.830265</td>\n",
       "      <td>1</td>\n",
       "      <td>0</td>\n",
       "      <td>0.293788</td>\n",
       "      <td>0.176137</td>\n",
       "      <td>0.268443</td>\n",
       "      <td>0.051440</td>\n",
       "      <td>229705.9623</td>\n",
       "      <td>34.573913</td>\n",
       "      <td>1035</td>\n",
       "      <td>0.019235</td>\n",
       "    </tr>\n",
       "    <tr>\n",
       "      <td>4</td>\n",
       "      <td>The Clash</td>\n",
       "      <td>75747</td>\n",
       "      <td>0.587847</td>\n",
       "      <td>0.720985</td>\n",
       "      <td>0.723191</td>\n",
       "      <td>135.973084</td>\n",
       "      <td>-9.640061</td>\n",
       "      <td>1</td>\n",
       "      <td>0</td>\n",
       "      <td>0.168646</td>\n",
       "      <td>0.097506</td>\n",
       "      <td>0.216042</td>\n",
       "      <td>0.079187</td>\n",
       "      <td>211560.8168</td>\n",
       "      <td>37.129771</td>\n",
       "      <td>262</td>\n",
       "      <td>0.019309</td>\n",
       "    </tr>\n",
       "    <tr>\n",
       "      <td>5</td>\n",
       "      <td>Black Sabbath</td>\n",
       "      <td>771438</td>\n",
       "      <td>0.347427</td>\n",
       "      <td>0.625708</td>\n",
       "      <td>0.414307</td>\n",
       "      <td>128.241218</td>\n",
       "      <td>-11.726091</td>\n",
       "      <td>1</td>\n",
       "      <td>9</td>\n",
       "      <td>0.137177</td>\n",
       "      <td>0.152760</td>\n",
       "      <td>0.195839</td>\n",
       "      <td>0.051713</td>\n",
       "      <td>319529.9545</td>\n",
       "      <td>35.672727</td>\n",
       "      <td>220</td>\n",
       "      <td>0.026612</td>\n",
       "    </tr>\n",
       "    <tr>\n",
       "      <td>6</td>\n",
       "      <td>Cream</td>\n",
       "      <td>112462</td>\n",
       "      <td>0.436184</td>\n",
       "      <td>0.560395</td>\n",
       "      <td>0.572026</td>\n",
       "      <td>124.187553</td>\n",
       "      <td>-13.135105</td>\n",
       "      <td>1</td>\n",
       "      <td>7</td>\n",
       "      <td>0.267302</td>\n",
       "      <td>0.115986</td>\n",
       "      <td>0.287992</td>\n",
       "      <td>0.044347</td>\n",
       "      <td>276187.1053</td>\n",
       "      <td>38.973684</td>\n",
       "      <td>76</td>\n",
       "      <td>0.026653</td>\n",
       "    </tr>\n",
       "    <tr>\n",
       "      <td>7</td>\n",
       "      <td>The Kinks</td>\n",
       "      <td>100160</td>\n",
       "      <td>0.547176</td>\n",
       "      <td>0.707960</td>\n",
       "      <td>0.675530</td>\n",
       "      <td>122.030543</td>\n",
       "      <td>-8.109783</td>\n",
       "      <td>1</td>\n",
       "      <td>7</td>\n",
       "      <td>0.296287</td>\n",
       "      <td>0.022411</td>\n",
       "      <td>0.183462</td>\n",
       "      <td>0.055244</td>\n",
       "      <td>186075.7285</td>\n",
       "      <td>29.977376</td>\n",
       "      <td>442</td>\n",
       "      <td>0.027906</td>\n",
       "    </tr>\n",
       "    <tr>\n",
       "      <td>8</td>\n",
       "      <td>Roxy Music</td>\n",
       "      <td>852855</td>\n",
       "      <td>0.544614</td>\n",
       "      <td>0.705421</td>\n",
       "      <td>0.569796</td>\n",
       "      <td>118.601982</td>\n",
       "      <td>-7.715246</td>\n",
       "      <td>1</td>\n",
       "      <td>0</td>\n",
       "      <td>0.216935</td>\n",
       "      <td>0.167444</td>\n",
       "      <td>0.163277</td>\n",
       "      <td>0.050700</td>\n",
       "      <td>270257.2105</td>\n",
       "      <td>39.210526</td>\n",
       "      <td>114</td>\n",
       "      <td>0.030991</td>\n",
       "    </tr>\n",
       "    <tr>\n",
       "      <td>9</td>\n",
       "      <td>David Bowie</td>\n",
       "      <td>531986</td>\n",
       "      <td>0.497813</td>\n",
       "      <td>0.595268</td>\n",
       "      <td>0.547634</td>\n",
       "      <td>122.769713</td>\n",
       "      <td>-11.261769</td>\n",
       "      <td>1</td>\n",
       "      <td>0</td>\n",
       "      <td>0.254577</td>\n",
       "      <td>0.076402</td>\n",
       "      <td>0.208975</td>\n",
       "      <td>0.059766</td>\n",
       "      <td>242765.4619</td>\n",
       "      <td>41.728700</td>\n",
       "      <td>446</td>\n",
       "      <td>0.034001</td>\n",
       "    </tr>\n",
       "    <tr>\n",
       "      <td>10</td>\n",
       "      <td>Sex Pistols</td>\n",
       "      <td>418740</td>\n",
       "      <td>0.294263</td>\n",
       "      <td>0.939000</td>\n",
       "      <td>0.401316</td>\n",
       "      <td>144.990421</td>\n",
       "      <td>-5.915211</td>\n",
       "      <td>1</td>\n",
       "      <td>9</td>\n",
       "      <td>0.026918</td>\n",
       "      <td>0.039091</td>\n",
       "      <td>0.234321</td>\n",
       "      <td>0.107358</td>\n",
       "      <td>197452.5263</td>\n",
       "      <td>36.105263</td>\n",
       "      <td>38</td>\n",
       "      <td>0.034247</td>\n",
       "    </tr>\n",
       "    <tr>\n",
       "      <td>11</td>\n",
       "      <td>Bo Diddley</td>\n",
       "      <td>55128</td>\n",
       "      <td>0.656250</td>\n",
       "      <td>0.580796</td>\n",
       "      <td>0.706010</td>\n",
       "      <td>113.608390</td>\n",
       "      <td>-12.222890</td>\n",
       "      <td>1</td>\n",
       "      <td>1</td>\n",
       "      <td>0.461112</td>\n",
       "      <td>0.022897</td>\n",
       "      <td>0.162061</td>\n",
       "      <td>0.057821</td>\n",
       "      <td>181205.8500</td>\n",
       "      <td>23.960000</td>\n",
       "      <td>100</td>\n",
       "      <td>0.034819</td>\n",
       "    </tr>\n",
       "    <tr>\n",
       "      <td>12</td>\n",
       "      <td>The Who</td>\n",
       "      <td>577627</td>\n",
       "      <td>0.472035</td>\n",
       "      <td>0.723826</td>\n",
       "      <td>0.503840</td>\n",
       "      <td>127.244012</td>\n",
       "      <td>-8.821012</td>\n",
       "      <td>1</td>\n",
       "      <td>2</td>\n",
       "      <td>0.223892</td>\n",
       "      <td>0.069392</td>\n",
       "      <td>0.252488</td>\n",
       "      <td>0.062551</td>\n",
       "      <td>239976.7066</td>\n",
       "      <td>29.768340</td>\n",
       "      <td>518</td>\n",
       "      <td>0.035082</td>\n",
       "    </tr>\n",
       "    <tr>\n",
       "      <td>13</td>\n",
       "      <td>The Beatles</td>\n",
       "      <td>754032</td>\n",
       "      <td>0.521975</td>\n",
       "      <td>0.546827</td>\n",
       "      <td>0.619660</td>\n",
       "      <td>121.074746</td>\n",
       "      <td>-9.682696</td>\n",
       "      <td>1</td>\n",
       "      <td>0</td>\n",
       "      <td>0.360356</td>\n",
       "      <td>0.051906</td>\n",
       "      <td>0.223001</td>\n",
       "      <td>0.053395</td>\n",
       "      <td>174307.8700</td>\n",
       "      <td>48.060753</td>\n",
       "      <td>823</td>\n",
       "      <td>0.035286</td>\n",
       "    </tr>\n",
       "    <tr>\n",
       "      <td>14</td>\n",
       "      <td>Jimi Hendrix</td>\n",
       "      <td>354105</td>\n",
       "      <td>0.424589</td>\n",
       "      <td>0.716461</td>\n",
       "      <td>0.539210</td>\n",
       "      <td>120.287094</td>\n",
       "      <td>-8.709449</td>\n",
       "      <td>1</td>\n",
       "      <td>8</td>\n",
       "      <td>0.211139</td>\n",
       "      <td>0.173331</td>\n",
       "      <td>0.266326</td>\n",
       "      <td>0.098660</td>\n",
       "      <td>247888.3645</td>\n",
       "      <td>42.345794</td>\n",
       "      <td>214</td>\n",
       "      <td>0.037459</td>\n",
       "    </tr>\n",
       "    <tr>\n",
       "      <td>15</td>\n",
       "      <td>The Beach Boys</td>\n",
       "      <td>41874</td>\n",
       "      <td>0.502945</td>\n",
       "      <td>0.532131</td>\n",
       "      <td>0.633957</td>\n",
       "      <td>125.992036</td>\n",
       "      <td>-9.925742</td>\n",
       "      <td>1</td>\n",
       "      <td>9</td>\n",
       "      <td>0.398488</td>\n",
       "      <td>0.115363</td>\n",
       "      <td>0.191189</td>\n",
       "      <td>0.043971</td>\n",
       "      <td>148845.0946</td>\n",
       "      <td>27.957746</td>\n",
       "      <td>994</td>\n",
       "      <td>0.044999</td>\n",
       "    </tr>\n",
       "    <tr>\n",
       "      <td>16</td>\n",
       "      <td>Pink Floyd</td>\n",
       "      <td>346336</td>\n",
       "      <td>0.383258</td>\n",
       "      <td>0.415595</td>\n",
       "      <td>0.257658</td>\n",
       "      <td>116.325406</td>\n",
       "      <td>-15.177952</td>\n",
       "      <td>1</td>\n",
       "      <td>7</td>\n",
       "      <td>0.388336</td>\n",
       "      <td>0.299681</td>\n",
       "      <td>0.353277</td>\n",
       "      <td>0.059263</td>\n",
       "      <td>313983.4928</td>\n",
       "      <td>45.289855</td>\n",
       "      <td>414</td>\n",
       "      <td>0.047449</td>\n",
       "    </tr>\n",
       "    <tr>\n",
       "      <td>17</td>\n",
       "      <td>The Yardbirds</td>\n",
       "      <td>489303</td>\n",
       "      <td>0.480548</td>\n",
       "      <td>0.638417</td>\n",
       "      <td>0.647690</td>\n",
       "      <td>123.367083</td>\n",
       "      <td>-10.635988</td>\n",
       "      <td>1</td>\n",
       "      <td>0</td>\n",
       "      <td>0.213877</td>\n",
       "      <td>0.169364</td>\n",
       "      <td>0.181681</td>\n",
       "      <td>0.057213</td>\n",
       "      <td>170852.7500</td>\n",
       "      <td>27.404762</td>\n",
       "      <td>84</td>\n",
       "      <td>0.048014</td>\n",
       "    </tr>\n",
       "    <tr>\n",
       "      <td>18</td>\n",
       "      <td>MC5</td>\n",
       "      <td>182598</td>\n",
       "      <td>0.420368</td>\n",
       "      <td>0.771421</td>\n",
       "      <td>0.628158</td>\n",
       "      <td>125.009526</td>\n",
       "      <td>-8.078105</td>\n",
       "      <td>1</td>\n",
       "      <td>2</td>\n",
       "      <td>0.187765</td>\n",
       "      <td>0.059437</td>\n",
       "      <td>0.401511</td>\n",
       "      <td>0.063453</td>\n",
       "      <td>225523.3158</td>\n",
       "      <td>30.947368</td>\n",
       "      <td>38</td>\n",
       "      <td>0.052370</td>\n",
       "    </tr>\n",
       "    <tr>\n",
       "      <td>19</td>\n",
       "      <td>Neil Young</td>\n",
       "      <td>379125</td>\n",
       "      <td>0.511677</td>\n",
       "      <td>0.397089</td>\n",
       "      <td>0.494641</td>\n",
       "      <td>126.167687</td>\n",
       "      <td>-12.942327</td>\n",
       "      <td>1</td>\n",
       "      <td>7</td>\n",
       "      <td>0.460809</td>\n",
       "      <td>0.046176</td>\n",
       "      <td>0.256286</td>\n",
       "      <td>0.037686</td>\n",
       "      <td>254191.5612</td>\n",
       "      <td>38.605442</td>\n",
       "      <td>294</td>\n",
       "      <td>0.058148</td>\n",
       "    </tr>\n",
       "    <tr>\n",
       "      <td>20</td>\n",
       "      <td>The Byrds</td>\n",
       "      <td>631774</td>\n",
       "      <td>0.469870</td>\n",
       "      <td>0.579786</td>\n",
       "      <td>0.662279</td>\n",
       "      <td>120.569389</td>\n",
       "      <td>-10.160832</td>\n",
       "      <td>1</td>\n",
       "      <td>2</td>\n",
       "      <td>0.334328</td>\n",
       "      <td>0.059134</td>\n",
       "      <td>0.239382</td>\n",
       "      <td>0.037782</td>\n",
       "      <td>167257.4122</td>\n",
       "      <td>27.984733</td>\n",
       "      <td>262</td>\n",
       "      <td>0.063871</td>\n",
       "    </tr>\n",
       "    <tr>\n",
       "      <td>21</td>\n",
       "      <td>Chuck Berry</td>\n",
       "      <td>120521</td>\n",
       "      <td>0.627402</td>\n",
       "      <td>0.616434</td>\n",
       "      <td>0.809753</td>\n",
       "      <td>126.192406</td>\n",
       "      <td>-10.259329</td>\n",
       "      <td>1</td>\n",
       "      <td>0</td>\n",
       "      <td>0.683166</td>\n",
       "      <td>0.120010</td>\n",
       "      <td>0.192289</td>\n",
       "      <td>0.061202</td>\n",
       "      <td>157233.2922</td>\n",
       "      <td>29.721461</td>\n",
       "      <td>219</td>\n",
       "      <td>0.067180</td>\n",
       "    </tr>\n",
       "    <tr>\n",
       "      <td>22</td>\n",
       "      <td>The Everly Brothers</td>\n",
       "      <td>46699</td>\n",
       "      <td>0.534642</td>\n",
       "      <td>0.415209</td>\n",
       "      <td>0.632228</td>\n",
       "      <td>116.076075</td>\n",
       "      <td>-12.629672</td>\n",
       "      <td>1</td>\n",
       "      <td>4</td>\n",
       "      <td>0.631588</td>\n",
       "      <td>0.000233</td>\n",
       "      <td>0.179648</td>\n",
       "      <td>0.032081</td>\n",
       "      <td>151269.7015</td>\n",
       "      <td>27.432836</td>\n",
       "      <td>134</td>\n",
       "      <td>0.069883</td>\n",
       "    </tr>\n",
       "    <tr>\n",
       "      <td>23</td>\n",
       "      <td>Bob Dylan</td>\n",
       "      <td>66915</td>\n",
       "      <td>0.512598</td>\n",
       "      <td>0.477932</td>\n",
       "      <td>0.551934</td>\n",
       "      <td>126.160149</td>\n",
       "      <td>-11.184330</td>\n",
       "      <td>1</td>\n",
       "      <td>7</td>\n",
       "      <td>0.562567</td>\n",
       "      <td>0.034211</td>\n",
       "      <td>0.308978</td>\n",
       "      <td>0.064535</td>\n",
       "      <td>256713.4203</td>\n",
       "      <td>30.860806</td>\n",
       "      <td>1092</td>\n",
       "      <td>0.071775</td>\n",
       "    </tr>\n",
       "    <tr>\n",
       "      <td>24</td>\n",
       "      <td>Elvis Presley</td>\n",
       "      <td>180228</td>\n",
       "      <td>0.495843</td>\n",
       "      <td>0.426308</td>\n",
       "      <td>0.621249</td>\n",
       "      <td>111.489453</td>\n",
       "      <td>-12.893730</td>\n",
       "      <td>1</td>\n",
       "      <td>0</td>\n",
       "      <td>0.741412</td>\n",
       "      <td>0.053623</td>\n",
       "      <td>0.247346</td>\n",
       "      <td>0.058278</td>\n",
       "      <td>156211.0354</td>\n",
       "      <td>33.391919</td>\n",
       "      <td>990</td>\n",
       "      <td>0.089288</td>\n",
       "    </tr>\n",
       "    <tr>\n",
       "      <td>25</td>\n",
       "      <td>Jerry Lee Lewis</td>\n",
       "      <td>332141</td>\n",
       "      <td>0.506290</td>\n",
       "      <td>0.676275</td>\n",
       "      <td>0.751319</td>\n",
       "      <td>115.911797</td>\n",
       "      <td>-9.392551</td>\n",
       "      <td>1</td>\n",
       "      <td>0</td>\n",
       "      <td>0.581420</td>\n",
       "      <td>0.011824</td>\n",
       "      <td>0.271314</td>\n",
       "      <td>0.055530</td>\n",
       "      <td>153289.9420</td>\n",
       "      <td>24.478261</td>\n",
       "      <td>138</td>\n",
       "      <td>0.100199</td>\n",
       "    </tr>\n",
       "    <tr>\n",
       "      <td>26</td>\n",
       "      <td>The Velvet Underground</td>\n",
       "      <td>840402</td>\n",
       "      <td>0.484079</td>\n",
       "      <td>0.503375</td>\n",
       "      <td>0.554967</td>\n",
       "      <td>115.886429</td>\n",
       "      <td>-11.817983</td>\n",
       "      <td>1</td>\n",
       "      <td>2</td>\n",
       "      <td>0.340720</td>\n",
       "      <td>0.167388</td>\n",
       "      <td>0.193360</td>\n",
       "      <td>0.042714</td>\n",
       "      <td>264561.5989</td>\n",
       "      <td>35.920904</td>\n",
       "      <td>177</td>\n",
       "      <td>0.109487</td>\n",
       "    </tr>\n",
       "    <tr>\n",
       "      <td>27</td>\n",
       "      <td>The Shadows</td>\n",
       "      <td>496405</td>\n",
       "      <td>0.522360</td>\n",
       "      <td>0.548520</td>\n",
       "      <td>0.678440</td>\n",
       "      <td>127.833000</td>\n",
       "      <td>-8.947560</td>\n",
       "      <td>1</td>\n",
       "      <td>9</td>\n",
       "      <td>0.411624</td>\n",
       "      <td>0.405904</td>\n",
       "      <td>0.187284</td>\n",
       "      <td>0.034892</td>\n",
       "      <td>152000.5600</td>\n",
       "      <td>36.960000</td>\n",
       "      <td>50</td>\n",
       "      <td>0.132787</td>\n",
       "    </tr>\n",
       "    <tr>\n",
       "      <td>28</td>\n",
       "      <td>The Stooges</td>\n",
       "      <td>562304</td>\n",
       "      <td>0.385821</td>\n",
       "      <td>0.764436</td>\n",
       "      <td>0.450233</td>\n",
       "      <td>122.538410</td>\n",
       "      <td>-7.061026</td>\n",
       "      <td>1</td>\n",
       "      <td>2</td>\n",
       "      <td>0.010889</td>\n",
       "      <td>0.204486</td>\n",
       "      <td>0.227441</td>\n",
       "      <td>0.063141</td>\n",
       "      <td>266561.8205</td>\n",
       "      <td>35.333333</td>\n",
       "      <td>78</td>\n",
       "      <td>0.138244</td>\n",
       "    </tr>\n",
       "    <tr>\n",
       "      <td>29</td>\n",
       "      <td>Roy Orbison</td>\n",
       "      <td>852007</td>\n",
       "      <td>0.476181</td>\n",
       "      <td>0.473665</td>\n",
       "      <td>0.597291</td>\n",
       "      <td>113.254830</td>\n",
       "      <td>-9.974555</td>\n",
       "      <td>1</td>\n",
       "      <td>9</td>\n",
       "      <td>0.662681</td>\n",
       "      <td>0.007967</td>\n",
       "      <td>0.198232</td>\n",
       "      <td>0.033090</td>\n",
       "      <td>160620.7143</td>\n",
       "      <td>31.835165</td>\n",
       "      <td>182</td>\n",
       "      <td>0.141508</td>\n",
       "    </tr>\n",
       "    <tr>\n",
       "      <td>30</td>\n",
       "      <td>Buddy Holly</td>\n",
       "      <td>538677</td>\n",
       "      <td>0.586158</td>\n",
       "      <td>0.557567</td>\n",
       "      <td>0.732281</td>\n",
       "      <td>120.732509</td>\n",
       "      <td>-9.515404</td>\n",
       "      <td>1</td>\n",
       "      <td>9</td>\n",
       "      <td>0.542532</td>\n",
       "      <td>0.050561</td>\n",
       "      <td>0.171765</td>\n",
       "      <td>0.045586</td>\n",
       "      <td>132186.9123</td>\n",
       "      <td>32.614035</td>\n",
       "      <td>114</td>\n",
       "      <td>0.154983</td>\n",
       "    </tr>\n",
       "    <tr>\n",
       "      <td>31</td>\n",
       "      <td>Brian Eno</td>\n",
       "      <td>617196</td>\n",
       "      <td>0.315284</td>\n",
       "      <td>0.261930</td>\n",
       "      <td>0.233121</td>\n",
       "      <td>104.060371</td>\n",
       "      <td>-21.529166</td>\n",
       "      <td>1</td>\n",
       "      <td>0</td>\n",
       "      <td>0.688064</td>\n",
       "      <td>0.653108</td>\n",
       "      <td>0.154937</td>\n",
       "      <td>0.045024</td>\n",
       "      <td>314970.1179</td>\n",
       "      <td>35.235808</td>\n",
       "      <td>229</td>\n",
       "      <td>0.310919</td>\n",
       "    </tr>\n",
       "  </tbody>\n",
       "</table>\n",
       "</div>"
      ],
      "text/plain": [
       "               artist_name  artist_id  danceability    energy   valence  \\\n",
       "0                 The Band      38490      0.550152  0.624270  0.632282   \n",
       "1           Little Richard     824022      0.561571  0.605827  0.791214   \n",
       "2             Led Zeppelin     139026      0.421562  0.688843  0.505988   \n",
       "3       The Rolling Stones     894465      0.524446  0.719915  0.655332   \n",
       "4                The Clash      75747      0.587847  0.720985  0.723191   \n",
       "5            Black Sabbath     771438      0.347427  0.625708  0.414307   \n",
       "6                    Cream     112462      0.436184  0.560395  0.572026   \n",
       "7                The Kinks     100160      0.547176  0.707960  0.675530   \n",
       "8               Roxy Music     852855      0.544614  0.705421  0.569796   \n",
       "9              David Bowie     531986      0.497813  0.595268  0.547634   \n",
       "10             Sex Pistols     418740      0.294263  0.939000  0.401316   \n",
       "11              Bo Diddley      55128      0.656250  0.580796  0.706010   \n",
       "12                 The Who     577627      0.472035  0.723826  0.503840   \n",
       "13             The Beatles     754032      0.521975  0.546827  0.619660   \n",
       "14            Jimi Hendrix     354105      0.424589  0.716461  0.539210   \n",
       "15          The Beach Boys      41874      0.502945  0.532131  0.633957   \n",
       "16              Pink Floyd     346336      0.383258  0.415595  0.257658   \n",
       "17           The Yardbirds     489303      0.480548  0.638417  0.647690   \n",
       "18                     MC5     182598      0.420368  0.771421  0.628158   \n",
       "19              Neil Young     379125      0.511677  0.397089  0.494641   \n",
       "20               The Byrds     631774      0.469870  0.579786  0.662279   \n",
       "21             Chuck Berry     120521      0.627402  0.616434  0.809753   \n",
       "22     The Everly Brothers      46699      0.534642  0.415209  0.632228   \n",
       "23               Bob Dylan      66915      0.512598  0.477932  0.551934   \n",
       "24           Elvis Presley     180228      0.495843  0.426308  0.621249   \n",
       "25         Jerry Lee Lewis     332141      0.506290  0.676275  0.751319   \n",
       "26  The Velvet Underground     840402      0.484079  0.503375  0.554967   \n",
       "27             The Shadows     496405      0.522360  0.548520  0.678440   \n",
       "28             The Stooges     562304      0.385821  0.764436  0.450233   \n",
       "29             Roy Orbison     852007      0.476181  0.473665  0.597291   \n",
       "30             Buddy Holly     538677      0.586158  0.557567  0.732281   \n",
       "31               Brian Eno     617196      0.315284  0.261930  0.233121   \n",
       "\n",
       "         tempo   loudness  mode  key  acousticness  instrumentalness  \\\n",
       "0   119.282261  -9.367265     1    0      0.380960          0.040831   \n",
       "1   122.419959  -8.870214     1    0      0.537076          0.010753   \n",
       "2   118.887166 -10.202317     1    2      0.223537          0.158421   \n",
       "3   123.764717  -7.830265     1    0      0.293788          0.176137   \n",
       "4   135.973084  -9.640061     1    0      0.168646          0.097506   \n",
       "5   128.241218 -11.726091     1    9      0.137177          0.152760   \n",
       "6   124.187553 -13.135105     1    7      0.267302          0.115986   \n",
       "7   122.030543  -8.109783     1    7      0.296287          0.022411   \n",
       "8   118.601982  -7.715246     1    0      0.216935          0.167444   \n",
       "9   122.769713 -11.261769     1    0      0.254577          0.076402   \n",
       "10  144.990421  -5.915211     1    9      0.026918          0.039091   \n",
       "11  113.608390 -12.222890     1    1      0.461112          0.022897   \n",
       "12  127.244012  -8.821012     1    2      0.223892          0.069392   \n",
       "13  121.074746  -9.682696     1    0      0.360356          0.051906   \n",
       "14  120.287094  -8.709449     1    8      0.211139          0.173331   \n",
       "15  125.992036  -9.925742     1    9      0.398488          0.115363   \n",
       "16  116.325406 -15.177952     1    7      0.388336          0.299681   \n",
       "17  123.367083 -10.635988     1    0      0.213877          0.169364   \n",
       "18  125.009526  -8.078105     1    2      0.187765          0.059437   \n",
       "19  126.167687 -12.942327     1    7      0.460809          0.046176   \n",
       "20  120.569389 -10.160832     1    2      0.334328          0.059134   \n",
       "21  126.192406 -10.259329     1    0      0.683166          0.120010   \n",
       "22  116.076075 -12.629672     1    4      0.631588          0.000233   \n",
       "23  126.160149 -11.184330     1    7      0.562567          0.034211   \n",
       "24  111.489453 -12.893730     1    0      0.741412          0.053623   \n",
       "25  115.911797  -9.392551     1    0      0.581420          0.011824   \n",
       "26  115.886429 -11.817983     1    2      0.340720          0.167388   \n",
       "27  127.833000  -8.947560     1    9      0.411624          0.405904   \n",
       "28  122.538410  -7.061026     1    2      0.010889          0.204486   \n",
       "29  113.254830  -9.974555     1    9      0.662681          0.007967   \n",
       "30  120.732509  -9.515404     1    9      0.542532          0.050561   \n",
       "31  104.060371 -21.529166     1    0      0.688064          0.653108   \n",
       "\n",
       "    liveness  speechiness  duration_ms  popularity  count  Diffrential  \n",
       "0   0.284982     0.063417  247693.8341   32.260664    211     0.010730  \n",
       "1   0.197991     0.074912  168048.3776   27.295918    196     0.012294  \n",
       "2   0.226333     0.062070  327086.2959   41.417160    676     0.013928  \n",
       "3   0.268443     0.051440  229705.9623   34.573913   1035     0.019235  \n",
       "4   0.216042     0.079187  211560.8168   37.129771    262     0.019309  \n",
       "5   0.195839     0.051713  319529.9545   35.672727    220     0.026612  \n",
       "6   0.287992     0.044347  276187.1053   38.973684     76     0.026653  \n",
       "7   0.183462     0.055244  186075.7285   29.977376    442     0.027906  \n",
       "8   0.163277     0.050700  270257.2105   39.210526    114     0.030991  \n",
       "9   0.208975     0.059766  242765.4619   41.728700    446     0.034001  \n",
       "10  0.234321     0.107358  197452.5263   36.105263     38     0.034247  \n",
       "11  0.162061     0.057821  181205.8500   23.960000    100     0.034819  \n",
       "12  0.252488     0.062551  239976.7066   29.768340    518     0.035082  \n",
       "13  0.223001     0.053395  174307.8700   48.060753    823     0.035286  \n",
       "14  0.266326     0.098660  247888.3645   42.345794    214     0.037459  \n",
       "15  0.191189     0.043971  148845.0946   27.957746    994     0.044999  \n",
       "16  0.353277     0.059263  313983.4928   45.289855    414     0.047449  \n",
       "17  0.181681     0.057213  170852.7500   27.404762     84     0.048014  \n",
       "18  0.401511     0.063453  225523.3158   30.947368     38     0.052370  \n",
       "19  0.256286     0.037686  254191.5612   38.605442    294     0.058148  \n",
       "20  0.239382     0.037782  167257.4122   27.984733    262     0.063871  \n",
       "21  0.192289     0.061202  157233.2922   29.721461    219     0.067180  \n",
       "22  0.179648     0.032081  151269.7015   27.432836    134     0.069883  \n",
       "23  0.308978     0.064535  256713.4203   30.860806   1092     0.071775  \n",
       "24  0.247346     0.058278  156211.0354   33.391919    990     0.089288  \n",
       "25  0.271314     0.055530  153289.9420   24.478261    138     0.100199  \n",
       "26  0.193360     0.042714  264561.5989   35.920904    177     0.109487  \n",
       "27  0.187284     0.034892  152000.5600   36.960000     50     0.132787  \n",
       "28  0.227441     0.063141  266561.8205   35.333333     78     0.138244  \n",
       "29  0.198232     0.033090  160620.7143   31.835165    182     0.141508  \n",
       "30  0.171765     0.045586  132186.9123   32.614035    114     0.154983  \n",
       "31  0.154937     0.045024  314970.1179   35.235808    229     0.310919  "
      ]
     },
     "execution_count": 100,
     "metadata": {},
     "output_type": "execute_result"
    }
   ],
   "source": [
    "#Influential Pop/Rock artists sorted by ascending acoustic diffrential\n",
    "acousticDF = artists[artists['artist_name'].isin(prArtists)]\n",
    "acousticDF['Diffrential'] = acousticDF['artist_name'].apply(AcousticDiffRank)\n",
    "acousticDF = acousticDF.sort_values(by=['Diffrential'])\n",
    "acousticDF = acousticDF.reset_index(drop=True)\n",
    "acousticDF = acousticDF[acousticDF['Diffrential'] > 0]\n",
    "acLegends = []\n",
    "for i in acousticDF['artist_name']:\n",
    "        df = totalInfluence[totalInfluence['names'] == i]\n",
    "        if len(df) > 0:\n",
    "            index = df.index[0]\n",
    "            if index < 0.01 * len(totalInfluence):\n",
    "                acLegends.append(i) \n",
    "acLegendsDF = acousticDF[acousticDF['artist_name'].isin(acLegends)]\n",
    "acLegendsDF = acLegendsDF.reset_index(drop=True)\n",
    "acLegendsDF"
   ]
  },
  {
   "cell_type": "code",
   "execution_count": 98,
   "metadata": {},
   "outputs": [
    {
     "data": {
      "text/plain": [
       "0.013928288030173767"
      ]
     },
     "execution_count": 98,
     "metadata": {},
     "output_type": "execute_result"
    },
    {
     "data": {
      "image/png": "[encoded data removed]",
      "text/plain": [
       "<Figure size 432x288 with 1 Axes>"
      ]
     },
     "metadata": {
      "needs_background": "light"
     },
     "output_type": "display_data"
    }
   ],
   "source": [
    "acousticImportance('Led Zeppelin')"
   ]
  },
  {
   "cell_type": "code",
   "execution_count": 99,
   "metadata": {},
   "outputs": [
    {
     "data": {
      "text/plain": [
       "0.3109191125303424"
      ]
     },
     "execution_count": 99,
     "metadata": {},
     "output_type": "execute_result"
    },
    {
     "data": {
      "image/png": "[encoded data removed]",
      "text/plain": [
       "<Figure size 432x288 with 1 Axes>"
      ]
     },
     "metadata": {
      "needs_background": "light"
     },
     "output_type": "display_data"
    }
   ],
   "source": [
    "acousticImportance('Brian Eno')"
   ]
  },
  {
   "cell_type": "code",
   "execution_count": 152,
   "metadata": {},
   "outputs": [
    {
     "data": {
      "text/plain": [
       "(0, 100)"
      ]
     },
     "execution_count": 152,
     "metadata": {},
     "output_type": "execute_result"
    },
    {
     "data": {
      "image/png": "[encoded data removed]",
      "text/plain": [
       "<Figure size 432x288 with 1 Axes>"
      ]
     },
     "metadata": {
      "needs_background": "light"
     },
     "output_type": "display_data"
    }
   ],
   "source": [
    "# popularity of music over time\n",
    "year = years['year']\n",
    "popular = years['popularity']\n",
    "\n",
    "plt.plot(year, popular, 'co')\n",
    "plt.ylim(0, 100)"
   ]
  },
  {
   "cell_type": "code",
   "execution_count": 154,
   "metadata": {},
   "outputs": [
    {
     "data": {
      "text/plain": [
       "40.9415486716544"
      ]
     },
     "execution_count": 154,
     "metadata": {},
     "output_type": "execute_result"
    }
   ],
   "source": [
    "prSongs['popularity'].sum() / len(prSongs)\n"
   ]
  },
  {
   "cell_type": "code",
   "execution_count": 156,
   "metadata": {},
   "outputs": [
    {
     "data": {
      "text/plain": [
       "62.7939"
      ]
     },
     "execution_count": 156,
     "metadata": {},
     "output_type": "execute_result"
    }
   ],
   "source": [
    "(prSongs[prSongs['year']==2020]['popularity'].sum()/len(prSongs[prSongs['year']==2020])).round(4)"
   ]
  },
  {
   "cell_type": "code",
   "execution_count": 158,
   "metadata": {},
   "outputs": [],
   "source": [
    "prYearlyAvgPop = []\n",
    "for i in years['year']:\n",
    "    songsOfYear = prSongs[prSongs['year']==i].loc[:,['year', 'popularity', 'genre']]\n",
    "    if len(songsOfYear) != 0:\n",
    "        yearTot = songsOfYear['popularity'].sum()\n",
    "        yearAvg = yearTot / len(songsOfYear)\n",
    "        yearAvg.round(2)\n",
    "        prYearlyAvgPop.append(yearAvg)\n",
    "    else:\n",
    "        prYearlyAvgPop.append(0.00)"
   ]
  },
  {
   "cell_type": "code",
   "execution_count": 159,
   "metadata": {},
   "outputs": [
    {
     "data": {
      "text/plain": [
       "(0, 100)"
      ]
     },
     "execution_count": 159,
     "metadata": {},
     "output_type": "execute_result"
    },
    {
     "data": {
      "image/png": "[encoded data removed]",
      "text/plain": [
       "<Figure size 432x288 with 1 Axes>"
      ]
     },
     "metadata": {
      "needs_background": "light"
     },
     "output_type": "display_data"
    }
   ],
   "source": [
    "# popularity of pop/rock songs over the years\n",
    "plt.plot(years['year'],prYearlyAvgPop, 'mo')\n",
    "plt.ylim(0,100)"
   ]
  },
  {
   "cell_type": "code",
   "execution_count": 281,
   "metadata": {},
   "outputs": [],
   "source": [
    "def plotPop(genre):\n",
    "    \"\"\"plots the average popularity of songs in the provided genre for each year\n",
    "    precondition: genre is a string\"\"\"\n",
    "    genreSongs = full[full['genre'] == genre]\n",
    "    prYearlyAvgPop = []\n",
    "    for i in years['year']:\n",
    "        songsOfYear = genreSongs[genreSongs['year']==i].loc[:,['year', 'popularity', 'genre']]\n",
    "        if len(songsOfYear) != 0:\n",
    "            yearTot = songsOfYear['popularity'].sum()\n",
    "            yearAvg = yearTot / len(songsOfYear)\n",
    "            yearAvg.round(2)\n",
    "            prYearlyAvgPop.append(yearAvg)\n",
    "        else:\n",
    "            prYearlyAvgPop.append(0.00)\n",
    "    plt.plot(years['year'], prYearlyAvgPop, 'mo', label= genre)\n",
    "    plt.ylim(0, 50)\n",
    "    plt.legend()"
   ]
  },
  {
   "cell_type": "code",
   "execution_count": 282,
   "metadata": {},
   "outputs": [
    {
     "data": {
      "image/png": "[encoded data removed]",
      "text/plain": [
       "<Figure size 432x288 with 1 Axes>"
      ]
     },
     "metadata": {
      "needs_background": "light"
     },
     "output_type": "display_data"
    }
   ],
   "source": [
    "plotPop('Pop/Rock')"
   ]
  },
  {
   "cell_type": "code",
   "execution_count": 162,
   "metadata": {},
   "outputs": [
    {
     "data": {
      "image/png": "[encoded data removed]",
      "text/plain": [
       "<Figure size 432x288 with 1 Axes>"
      ]
     },
     "metadata": {
      "needs_background": "light"
     },
     "output_type": "display_data"
    }
   ],
   "source": [
    "plotPop('Electronic')"
   ]
  },
  {
   "cell_type": "code",
   "execution_count": 163,
   "metadata": {},
   "outputs": [
    {
     "data": {
      "image/png": "[encoded data removed]",
      "text/plain": [
       "<Figure size 432x288 with 1 Axes>"
      ]
     },
     "metadata": {
      "needs_background": "light"
     },
     "output_type": "display_data"
    }
   ],
   "source": [
    "plotPop('Reggae')"
   ]
  },
  {
   "cell_type": "code",
   "execution_count": 200,
   "metadata": {},
   "outputs": [
    {
     "data": {
      "image/png": "[encoded data removed]",
      "text/plain": [
       "<Figure size 432x288 with 1 Axes>"
      ]
     },
     "metadata": {
      "needs_background": "light"
     },
     "output_type": "display_data"
    }
   ],
   "source": [
    "plotPop('Jazz')"
   ]
  },
  {
   "cell_type": "code",
   "execution_count": 199,
   "metadata": {},
   "outputs": [
    {
     "data": {
      "image/png": "[encoded data removed]",
      "text/plain": [
       "<Figure size 432x288 with 1 Axes>"
      ]
     },
     "metadata": {
      "needs_background": "light"
     },
     "output_type": "display_data"
    }
   ],
   "source": [
    "plotPop('Country')"
   ]
  },
  {
   "cell_type": "code",
   "execution_count": 198,
   "metadata": {},
   "outputs": [
    {
     "data": {
      "image/png": "[encoded data removed]",
      "text/plain": [
       "<Figure size 432x288 with 1 Axes>"
      ]
     },
     "metadata": {
      "needs_background": "light"
     },
     "output_type": "display_data"
    }
   ],
   "source": [
    "plotPop('Comedy/Spoken')"
   ]
  },
  {
   "cell_type": "code",
   "execution_count": 197,
   "metadata": {},
   "outputs": [
    {
     "data": {
      "image/png": "[encoded data removed]",
      "text/plain": [
       "<Figure size 432x288 with 1 Axes>"
      ]
     },
     "metadata": {
      "needs_background": "light"
     },
     "output_type": "display_data"
    }
   ],
   "source": [
    "plotPop('R&B;')"
   ]
  },
  {
   "cell_type": "code",
   "execution_count": 196,
   "metadata": {},
   "outputs": [
    {
     "data": {
      "image/png": "[encoded data removed]",
      "text/plain": [
       "<Figure size 432x288 with 1 Axes>"
      ]
     },
     "metadata": {
      "needs_background": "light"
     },
     "output_type": "display_data"
    }
   ],
   "source": [
    "plotPop('Classical')"
   ]
  },
  {
   "cell_type": "code",
   "execution_count": 195,
   "metadata": {},
   "outputs": [
    {
     "data": {
      "image/png": "[encoded data removed]",
      "text/plain": [
       "<Figure size 432x288 with 1 Axes>"
      ]
     },
     "metadata": {
      "needs_background": "light"
     },
     "output_type": "display_data"
    }
   ],
   "source": [
    "plotPop('Latin')"
   ]
  },
  {
   "cell_type": "code",
   "execution_count": 194,
   "metadata": {},
   "outputs": [
    {
     "data": {
      "image/png": "[encoded data removed]",
      "text/plain": [
       "<Figure size 432x288 with 1 Axes>"
      ]
     },
     "metadata": {
      "needs_background": "light"
     },
     "output_type": "display_data"
    }
   ],
   "source": [
    "plotPop('Vocal')"
   ]
  },
  {
   "cell_type": "code",
   "execution_count": 171,
   "metadata": {},
   "outputs": [
    {
     "data": {
      "image/png": "[encoded data removed]",
      "text/plain": [
       "<Figure size 432x288 with 1 Axes>"
      ]
     },
     "metadata": {
      "needs_background": "light"
     },
     "output_type": "display_data"
    }
   ],
   "source": [
    "plotPop('Folk')"
   ]
  },
  {
   "cell_type": "code",
   "execution_count": 172,
   "metadata": {},
   "outputs": [
    {
     "data": {
      "image/png": "[encoded data removed]",
      "text/plain": [
       "<Figure size 432x288 with 1 Axes>"
      ]
     },
     "metadata": {
      "needs_background": "light"
     },
     "output_type": "display_data"
    }
   ],
   "source": [
    "plotPop('Easy Listening')"
   ]
  },
  {
   "cell_type": "code",
   "execution_count": 193,
   "metadata": {},
   "outputs": [
    {
     "data": {
      "image/png": "[encoded data removed]",
      "text/plain": [
       "<Figure size 432x288 with 1 Axes>"
      ]
     },
     "metadata": {
      "needs_background": "light"
     },
     "output_type": "display_data"
    }
   ],
   "source": [
    "plotPop('International')"
   ]
  },
  {
   "cell_type": "code",
   "execution_count": 192,
   "metadata": {},
   "outputs": [
    {
     "data": {
      "image/png": "[encoded data removed]",
      "text/plain": [
       "<Figure size 432x288 with 1 Axes>"
      ]
     },
     "metadata": {
      "needs_background": "light"
     },
     "output_type": "display_data"
    }
   ],
   "source": [
    "plotPop('Avant-Garde')"
   ]
  },
  {
   "cell_type": "code",
   "execution_count": 191,
   "metadata": {},
   "outputs": [
    {
     "data": {
      "image/png": "[encoded data removed]",
      "text/plain": [
       "<Figure size 432x288 with 1 Axes>"
      ]
     },
     "metadata": {
      "needs_background": "light"
     },
     "output_type": "display_data"
    }
   ],
   "source": [
    "plotPop('Blues')"
   ]
  },
  {
   "cell_type": "code",
   "execution_count": 190,
   "metadata": {},
   "outputs": [
    {
     "data": {
      "image/png": "[encoded data removed]",
      "text/plain": [
       "<Figure size 432x288 with 1 Axes>"
      ]
     },
     "metadata": {
      "needs_background": "light"
     },
     "output_type": "display_data"
    }
   ],
   "source": [
    "plotPop('Stage & Screen')"
   ]
  },
  {
   "cell_type": "code",
   "execution_count": 188,
   "metadata": {},
   "outputs": [
    {
     "data": {
      "image/png": "[encoded data removed]",
      "text/plain": [
       "<Figure size 432x288 with 1 Axes>"
      ]
     },
     "metadata": {
      "needs_background": "light"
     },
     "output_type": "display_data"
    }
   ],
   "source": [
    "plotPop('New Age')"
   ]
  },
  {
   "cell_type": "code",
   "execution_count": 187,
   "metadata": {},
   "outputs": [
    {
     "data": {
      "image/png": "[encoded data removed]",
      "text/plain": [
       "<Figure size 432x288 with 1 Axes>"
      ]
     },
     "metadata": {
      "needs_background": "light"
     },
     "output_type": "display_data"
    }
   ],
   "source": [
    "plotPop('Religious')"
   ]
  },
  {
   "cell_type": "code",
   "execution_count": 186,
   "metadata": {},
   "outputs": [
    {
     "data": {
      "image/png": "[encoded data removed]",
      "text/plain": [
       "<Figure size 432x288 with 1 Axes>"
      ]
     },
     "metadata": {
      "needs_background": "light"
     },
     "output_type": "display_data"
    }
   ],
   "source": [
    "plotPop(\"Children's\")"
   ]
  },
  {
   "cell_type": "code",
   "execution_count": 185,
   "metadata": {},
   "outputs": [
    {
     "data": {
      "image/png": "[encoded data removed]",
      "text/plain": [
       "<Figure size 432x288 with 1 Axes>"
      ]
     },
     "metadata": {
      "needs_background": "light"
     },
     "output_type": "display_data"
    }
   ],
   "source": [
    "plotPop('Unknown')"
   ]
  },
  {
   "cell_type": "code",
   "execution_count": 214,
   "metadata": {},
   "outputs": [],
   "source": [
    "def plotPopScale(genre):\n",
    "    \"\"\"plots the average popularity of songs in the provided genre for each year\n",
    "    precondition: genre is a string\"\"\"\n",
    "    genreSongs = full[full['genre'] == genre]\n",
    "    prYearlyAvgPop = []\n",
    "    for count, i in enumerate(years['year']):\n",
    "        songsOfYear = genreSongs[genreSongs['year']==i].loc[:,['year', 'popularity', 'genre']]\n",
    "        if len(songsOfYear) != 0:\n",
    "            yearTot = songsOfYear['popularity'].sum()\n",
    "            yearAvg = yearTot / len(songsOfYear)\n",
    "            yearAvg.round(2)\n",
    "            yearAvg = yearAvg - years['popularity'][count]\n",
    "            prYearlyAvgPop.append(yearAvg)\n",
    "        else:\n",
    "            prYearlyAvgPop.append(0.00)\n",
    "    plt.plot(years['year'], prYearlyAvgPop, 'mo', label= genre)\n",
    "    plt.ylim(0, 50)\n",
    "    plt.legend()"
   ]
  },
  {
   "cell_type": "code",
   "execution_count": 215,
   "metadata": {},
   "outputs": [
    {
     "data": {
      "image/png": "[encoded data removed]",
      "text/plain": [
       "<Figure size 432x288 with 1 Axes>"
      ]
     },
     "metadata": {
      "needs_background": "light"
     },
     "output_type": "display_data"
    }
   ],
   "source": [
    "plotPopScale('Pop/Rock')"
   ]
  },
  {
   "cell_type": "code",
   "execution_count": 216,
   "metadata": {},
   "outputs": [
    {
     "data": {
      "image/png": "[encoded data removed]",
      "text/plain": [
       "<Figure size 432x288 with 1 Axes>"
      ]
     },
     "metadata": {
      "needs_background": "light"
     },
     "output_type": "display_data"
    }
   ],
   "source": [
    "plotPopScale('Electronic')"
   ]
  },
  {
   "cell_type": "code",
   "execution_count": 218,
   "metadata": {},
   "outputs": [
    {
     "data": {
      "image/png": "[encoded data removed]",
      "text/plain": [
       "<Figure size 432x288 with 1 Axes>"
      ]
     },
     "metadata": {
      "needs_background": "light"
     },
     "output_type": "display_data"
    }
   ],
   "source": [
    "plotPopScale('Reggae')"
   ]
  },
  {
   "cell_type": "code",
   "execution_count": 245,
   "metadata": {},
   "outputs": [
    {
     "data": {
      "text/plain": [
       "[]"
      ]
     },
     "execution_count": 245,
     "metadata": {},
     "output_type": "execute_result"
    },
    {
     "data": {
      "image/png": "[encoded data removed]",
      "text/plain": [
       "<Figure size 432x288 with 1 Axes>"
      ]
     },
     "metadata": {
      "needs_background": "light"
     },
     "output_type": "display_data"
    }
   ],
   "source": [
    "plotPopScale('Jazz')\n",
    "plt.plot(color='b', marker='*')"
   ]
  },
  {
   "cell_type": "code",
   "execution_count": 314,
   "metadata": {},
   "outputs": [],
   "source": [
    "from cycler import cycler\n",
    "\n",
    "color_cycle = ['royalblue', 'green', 'crimson', 'turquoise', 'yellow', 'magenta', 'k', 'mediumpurple', 'deepskyblue', 'tomato', 'brown', 'slategray', 'indigo','goldenrod', 'cyan', 'navy', 'orange', 'tab:blue','lime', 'mediumorchid']\n",
    "\n",
    "def plotPopScaleCycle(genre):\n",
    "    \"\"\"plots the average popularity of songs in the provided genre for each year\n",
    "    precondition: genre is a string\"\"\"\n",
    "    genreSongs = full[full['genre'] == genre]\n",
    "    prYearlyAvgPop = []\n",
    "    for count, i in enumerate(years['year']):\n",
    "        songsOfYear = genreSongs[genreSongs['year']==i].loc[:,['year', 'popularity', 'genre']]\n",
    "        if len(songsOfYear) != 0:\n",
    "            yearTot = songsOfYear['popularity'].sum()\n",
    "            yearAvg = yearTot / len(songsOfYear)\n",
    "            yearAvg.round(2)\n",
    "            yearAvg = yearAvg - years['popularity'][count]\n",
    "            prYearlyAvgPop.append(yearAvg)\n",
    "        else:\n",
    "            prYearlyAvgPop.append(0.00)\n",
    "            \n",
    "    colors = list('rgbk')\n",
    "    plt.plot(years['year'], prYearlyAvgPop,'*', label = genre)\n",
    "    plt.ylim(0, 40)\n",
    "    plt.rcParams['axes.prop_cycle'] = cycler('color', color_cycle)\n",
    "    plt.legend(ncol=2,bbox_to_anchor=(1.05, 1), loc='upper left')\n",
    "        "
   ]
  },
  {
   "cell_type": "code",
   "execution_count": 315,
   "metadata": {},
   "outputs": [
    {
     "data": {
      "image/png": "[encoded data removed]",
      "text/plain": [
       "<Figure size 432x288 with 1 Axes>"
      ]
     },
     "metadata": {
      "needs_background": "light"
     },
     "output_type": "display_data"
    }
   ],
   "source": [
    "for i in genre:\n",
    "    plotPopScaleCycle(i)"
   ]
  },
  {
   "cell_type": "code",
   "execution_count": 225,
   "metadata": {},
   "outputs": [
    {
     "data": {
      "image/png": "[encoded data removed]",
      "text/plain": [
       "<Figure size 432x288 with 1 Axes>"
      ]
     },
     "metadata": {
      "needs_background": "light"
     },
     "output_type": "display_data"
    }
   ],
   "source": [
    "plotPopScale('Comedy/Spoken')"
   ]
  },
  {
   "cell_type": "code",
   "execution_count": 227,
   "metadata": {},
   "outputs": [
    {
     "data": {
      "image/png": "[encoded data removed]",
      "text/plain": [
       "<Figure size 432x288 with 1 Axes>"
      ]
     },
     "metadata": {
      "needs_background": "light"
     },
     "output_type": "display_data"
    }
   ],
   "source": [
    "plotPopScale('R&B;')"
   ]
  },
  {
   "cell_type": "code",
   "execution_count": 228,
   "metadata": {},
   "outputs": [
    {
     "data": {
      "image/png": "[encoded data removed]",
      "text/plain": [
       "<Figure size 432x288 with 1 Axes>"
      ]
     },
     "metadata": {
      "needs_background": "light"
     },
     "output_type": "display_data"
    }
   ],
   "source": [
    "plotPopScale('Classical')"
   ]
  },
  {
   "cell_type": "code",
   "execution_count": 229,
   "metadata": {},
   "outputs": [
    {
     "data": {
      "image/png": "[encoded data removed]",
      "text/plain": [
       "<Figure size 432x288 with 1 Axes>"
      ]
     },
     "metadata": {
      "needs_background": "light"
     },
     "output_type": "display_data"
    }
   ],
   "source": [
    "plotPopScale('Latin')"
   ]
  },
  {
   "cell_type": "code",
   "execution_count": 279,
   "metadata": {},
   "outputs": [
    {
     "data": {
      "image/png": "[encoded data removed]",
      "text/plain": [
       "<Figure size 432x288 with 1 Axes>"
      ]
     },
     "metadata": {
      "needs_background": "light"
     },
     "output_type": "display_data"
    }
   ],
   "source": [
    "plotPopScale('Vocal')"
   ]
  },
  {
   "cell_type": "code",
   "execution_count": 278,
   "metadata": {},
   "outputs": [
    {
     "data": {
      "image/png": "[encoded data removed]",
      "text/plain": [
       "<Figure size 432x288 with 1 Axes>"
      ]
     },
     "metadata": {
      "needs_background": "light"
     },
     "output_type": "display_data"
    }
   ],
   "source": [
    "plotPopScale('Folk')"
   ]
  },
  {
   "cell_type": "code",
   "execution_count": 277,
   "metadata": {},
   "outputs": [
    {
     "data": {
      "image/png": "[encoded data removed]",
      "text/plain": [
       "<Figure size 432x288 with 1 Axes>"
      ]
     },
     "metadata": {
      "needs_background": "light"
     },
     "output_type": "display_data"
    }
   ],
   "source": [
    "plotPopScale('Easy Listening')"
   ]
  },
  {
   "cell_type": "code",
   "execution_count": 276,
   "metadata": {},
   "outputs": [
    {
     "data": {
      "image/png": "[encoded data removed]",
      "text/plain": [
       "<Figure size 432x288 with 1 Axes>"
      ]
     },
     "metadata": {
      "needs_background": "light"
     },
     "output_type": "display_data"
    }
   ],
   "source": [
    "plotPopScale('International')"
   ]
  },
  {
   "cell_type": "code",
   "execution_count": 280,
   "metadata": {},
   "outputs": [
    {
     "data": {
      "image/png": "[encoded data removed]",
      "text/plain": [
       "<Figure size 432x288 with 1 Axes>"
      ]
     },
     "metadata": {
      "needs_background": "light"
     },
     "output_type": "display_data"
    }
   ],
   "source": [
    "plotPopScaleCycle('Avant-Garde')"
   ]
  },
  {
   "cell_type": "code",
   "execution_count": 235,
   "metadata": {},
   "outputs": [
    {
     "data": {
      "image/png": "[encoded data removed]",
      "text/plain": [
       "<Figure size 432x288 with 1 Axes>"
      ]
     },
     "metadata": {
      "needs_background": "light"
     },
     "output_type": "display_data"
    }
   ],
   "source": [
    "plotPopScale('Stage & Screen')"
   ]
  },
  {
   "cell_type": "code",
   "execution_count": 236,
   "metadata": {},
   "outputs": [
    {
     "data": {
      "image/png": "[encoded data removed]",
      "text/plain": [
       "<Figure size 432x288 with 1 Axes>"
      ]
     },
     "metadata": {
      "needs_background": "light"
     },
     "output_type": "display_data"
    }
   ],
   "source": [
    "plotPopScale('New Age')"
   ]
  },
  {
   "cell_type": "code",
   "execution_count": 237,
   "metadata": {},
   "outputs": [
    {
     "data": {
      "image/png": "[encoded data removed]",
      "text/plain": [
       "<Figure size 432x288 with 1 Axes>"
      ]
     },
     "metadata": {
      "needs_background": "light"
     },
     "output_type": "display_data"
    }
   ],
   "source": [
    "plotPopScale('Religious')"
   ]
  },
  {
   "cell_type": "code",
   "execution_count": 239,
   "metadata": {},
   "outputs": [
    {
     "data": {
      "image/png": "[encoded data removed]",
      "text/plain": [
       "<Figure size 432x288 with 1 Axes>"
      ]
     },
     "metadata": {
      "needs_background": "light"
     },
     "output_type": "display_data"
    }
   ],
   "source": [
    "plotPopScale(\"Children's\")"
   ]
  },
  {
   "cell_type": "code",
   "execution_count": 240,
   "metadata": {},
   "outputs": [
    {
     "data": {
      "image/png": "[encoded data removed]",
      "text/plain": [
       "<Figure size 432x288 with 1 Axes>"
      ]
     },
     "metadata": {
      "needs_background": "light"
     },
     "output_type": "display_data"
    }
   ],
   "source": [
    "plotPopScale('Unknown')"
   ]
  }
 ],
 "metadata": {
  "kernelspec": {
   "display_name": "Python 3",
   "language": "python",
   "name": "python3"
  },
  "language_info": {
   "codemirror_mode": {
    "name": "ipython",
    "version": 3
   },
   "file_extension": ".py",
   "mimetype": "text/x-python",
   "name": "python",
   "nbconvert_exporter": "python",
   "pygments_lexer": "ipython3",
   "version": "3.7.4"
  }
 },
 "nbformat": 4,
 "nbformat_minor": 2
}
