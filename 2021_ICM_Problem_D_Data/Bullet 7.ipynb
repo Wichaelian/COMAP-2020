{
 "cells": [
  {
   "cell_type": "markdown",
   "metadata": {},
   "source": [
    "### How does your work express information about cultural influence of music in time or circumstances? Alternatively, how can the effects of social, political or technological changes (such as the internet) be identified within the network?"
   ]
  },
  {
   "cell_type": "code",
   "execution_count": 3,
   "metadata": {},
   "outputs": [],
   "source": [
    "import pandas as pd\n",
    "import numpy as np\n",
    "import networkx as nx\n",
    "import ast\n",
    "from sklearn.metrics.pairwise import cosine_similarity\n",
    "import matplotlib.pyplot as plt"
   ]
  },
  {
   "cell_type": "code",
   "execution_count": 14,
   "metadata": {},
   "outputs": [],
   "source": [
    "artists = pd.read_csv('data_by_artist.csv')\n",
    "artists = artists.drop_duplicates(subset='artist_name', keep='last')\n",
    "years = pd.read_csv('data_by_year.csv')\n",
    "influence = pd.read_csv('influence_data.csv')"
   ]
  },
  {
   "cell_type": "code",
   "execution_count": 15,
   "metadata": {},
   "outputs": [
    {
     "data": {
      "text/html": [
       "<div>\n",
       "<style scoped>\n",
       "    .dataframe tbody tr th:only-of-type {\n",
       "        vertical-align: middle;\n",
       "    }\n",
       "\n",
       "    .dataframe tbody tr th {\n",
       "        vertical-align: top;\n",
       "    }\n",
       "\n",
       "    .dataframe thead th {\n",
       "        text-align: right;\n",
       "    }\n",
       "</style>\n",
       "<table border=\"1\" class=\"dataframe\">\n",
       "  <thead>\n",
       "    <tr style=\"text-align: right;\">\n",
       "      <th></th>\n",
       "      <th>year</th>\n",
       "      <th>danceability</th>\n",
       "      <th>energy</th>\n",
       "      <th>valence</th>\n",
       "      <th>tempo</th>\n",
       "      <th>loudness</th>\n",
       "      <th>mode</th>\n",
       "      <th>key</th>\n",
       "      <th>acousticness</th>\n",
       "      <th>instrumentalness</th>\n",
       "      <th>liveness</th>\n",
       "      <th>speechiness</th>\n",
       "      <th>duration_ms</th>\n",
       "      <th>popularity</th>\n",
       "    </tr>\n",
       "  </thead>\n",
       "  <tbody>\n",
       "    <tr>\n",
       "      <td>0</td>\n",
       "      <td>1921</td>\n",
       "      <td>0.425661</td>\n",
       "      <td>0.236784</td>\n",
       "      <td>0.425495</td>\n",
       "      <td>100.397758</td>\n",
       "      <td>-17.095437</td>\n",
       "      <td>1</td>\n",
       "      <td>7</td>\n",
       "      <td>0.895823</td>\n",
       "      <td>0.322330</td>\n",
       "      <td>0.215814</td>\n",
       "      <td>0.077258</td>\n",
       "      <td>229911.9141</td>\n",
       "      <td>0.351562</td>\n",
       "    </tr>\n",
       "    <tr>\n",
       "      <td>1</td>\n",
       "      <td>1922</td>\n",
       "      <td>0.480000</td>\n",
       "      <td>0.237026</td>\n",
       "      <td>0.534056</td>\n",
       "      <td>101.376139</td>\n",
       "      <td>-19.179958</td>\n",
       "      <td>1</td>\n",
       "      <td>10</td>\n",
       "      <td>0.939236</td>\n",
       "      <td>0.440470</td>\n",
       "      <td>0.238647</td>\n",
       "      <td>0.115419</td>\n",
       "      <td>167904.5417</td>\n",
       "      <td>0.138889</td>\n",
       "    </tr>\n",
       "    <tr>\n",
       "      <td>2</td>\n",
       "      <td>1923</td>\n",
       "      <td>0.568462</td>\n",
       "      <td>0.246936</td>\n",
       "      <td>0.624788</td>\n",
       "      <td>112.456598</td>\n",
       "      <td>-14.373882</td>\n",
       "      <td>1</td>\n",
       "      <td>0</td>\n",
       "      <td>0.976329</td>\n",
       "      <td>0.401932</td>\n",
       "      <td>0.236656</td>\n",
       "      <td>0.098619</td>\n",
       "      <td>178356.3018</td>\n",
       "      <td>5.727811</td>\n",
       "    </tr>\n",
       "    <tr>\n",
       "      <td>3</td>\n",
       "      <td>1924</td>\n",
       "      <td>0.548654</td>\n",
       "      <td>0.347033</td>\n",
       "      <td>0.668574</td>\n",
       "      <td>120.653359</td>\n",
       "      <td>-14.202304</td>\n",
       "      <td>1</td>\n",
       "      <td>10</td>\n",
       "      <td>0.935575</td>\n",
       "      <td>0.583955</td>\n",
       "      <td>0.237875</td>\n",
       "      <td>0.090210</td>\n",
       "      <td>188461.6498</td>\n",
       "      <td>0.603376</td>\n",
       "    </tr>\n",
       "    <tr>\n",
       "      <td>4</td>\n",
       "      <td>1925</td>\n",
       "      <td>0.571890</td>\n",
       "      <td>0.264373</td>\n",
       "      <td>0.616430</td>\n",
       "      <td>115.671715</td>\n",
       "      <td>-14.516707</td>\n",
       "      <td>1</td>\n",
       "      <td>5</td>\n",
       "      <td>0.965422</td>\n",
       "      <td>0.408893</td>\n",
       "      <td>0.243094</td>\n",
       "      <td>0.115457</td>\n",
       "      <td>184130.6996</td>\n",
       "      <td>2.707224</td>\n",
       "    </tr>\n",
       "  </tbody>\n",
       "</table>\n",
       "</div>"
      ],
      "text/plain": [
       "   year  danceability    energy   valence       tempo   loudness  mode  key  \\\n",
       "0  1921      0.425661  0.236784  0.425495  100.397758 -17.095437     1    7   \n",
       "1  1922      0.480000  0.237026  0.534056  101.376139 -19.179958     1   10   \n",
       "2  1923      0.568462  0.246936  0.624788  112.456598 -14.373882     1    0   \n",
       "3  1924      0.548654  0.347033  0.668574  120.653359 -14.202304     1   10   \n",
       "4  1925      0.571890  0.264373  0.616430  115.671715 -14.516707     1    5   \n",
       "\n",
       "   acousticness  instrumentalness  liveness  speechiness  duration_ms  \\\n",
       "0      0.895823          0.322330  0.215814     0.077258  229911.9141   \n",
       "1      0.939236          0.440470  0.238647     0.115419  167904.5417   \n",
       "2      0.976329          0.401932  0.236656     0.098619  178356.3018   \n",
       "3      0.935575          0.583955  0.237875     0.090210  188461.6498   \n",
       "4      0.965422          0.408893  0.243094     0.115457  184130.6996   \n",
       "\n",
       "   popularity  \n",
       "0    0.351562  \n",
       "1    0.138889  \n",
       "2    5.727811  \n",
       "3    0.603376  \n",
       "4    2.707224  "
      ]
     },
     "execution_count": 15,
     "metadata": {},
     "output_type": "execute_result"
    }
   ],
   "source": [
    "years.head()"
   ]
  },
  {
   "cell_type": "code",
   "execution_count": 5,
   "metadata": {},
   "outputs": [
    {
     "name": "stderr",
     "output_type": "stream",
     "text": [
      "  0%|          | 0/98340 [00:00<?, ?it/s]/Users/katherinefaiola/opt/anaconda3/lib/python3.7/site-packages/ipykernel_launcher.py:32: SettingWithCopyWarning: \n",
      "A value is trying to be set on a copy of a slice from a DataFrame\n",
      "\n",
      "See the caveats in the documentation: http://pandas.pydata.org/pandas-docs/stable/user_guide/indexing.html#returning-a-view-versus-a-copy\n",
      "/Users/katherinefaiola/opt/anaconda3/lib/python3.7/site-packages/ipykernel_launcher.py:33: SettingWithCopyWarning: \n",
      "A value is trying to be set on a copy of a slice from a DataFrame\n",
      "\n",
      "See the caveats in the documentation: http://pandas.pydata.org/pandas-docs/stable/user_guide/indexing.html#returning-a-view-versus-a-copy\n",
      "/Users/katherinefaiola/opt/anaconda3/lib/python3.7/site-packages/ipykernel_launcher.py:25: SettingWithCopyWarning: \n",
      "A value is trying to be set on a copy of a slice from a DataFrame\n",
      "\n",
      "See the caveats in the documentation: http://pandas.pydata.org/pandas-docs/stable/user_guide/indexing.html#returning-a-view-versus-a-copy\n",
      "/Users/katherinefaiola/opt/anaconda3/lib/python3.7/site-packages/ipykernel_launcher.py:26: SettingWithCopyWarning: \n",
      "A value is trying to be set on a copy of a slice from a DataFrame\n",
      "\n",
      "See the caveats in the documentation: http://pandas.pydata.org/pandas-docs/stable/user_guide/indexing.html#returning-a-view-versus-a-copy\n",
      "/Users/katherinefaiola/opt/anaconda3/lib/python3.7/site-packages/ipykernel_launcher.py:44: SettingWithCopyWarning: \n",
      "A value is trying to be set on a copy of a slice from a DataFrame\n",
      "\n",
      "See the caveats in the documentation: http://pandas.pydata.org/pandas-docs/stable/user_guide/indexing.html#returning-a-view-versus-a-copy\n",
      "/Users/katherinefaiola/opt/anaconda3/lib/python3.7/site-packages/ipykernel_launcher.py:45: SettingWithCopyWarning: \n",
      "A value is trying to be set on a copy of a slice from a DataFrame\n",
      "\n",
      "See the caveats in the documentation: http://pandas.pydata.org/pandas-docs/stable/user_guide/indexing.html#returning-a-view-versus-a-copy\n",
      "100%|██████████| 98340/98340 [00:32<00:00, 3033.92it/s]\n",
      "100%|██████████| 42770/42770 [00:17<00:00, 2412.81it/s]\n"
     ]
    },
    {
     "data": {
      "text/html": [
       "<div>\n",
       "<style scoped>\n",
       "    .dataframe tbody tr th:only-of-type {\n",
       "        vertical-align: middle;\n",
       "    }\n",
       "\n",
       "    .dataframe tbody tr th {\n",
       "        vertical-align: top;\n",
       "    }\n",
       "\n",
       "    .dataframe thead th {\n",
       "        text-align: right;\n",
       "    }\n",
       "</style>\n",
       "<table border=\"1\" class=\"dataframe\">\n",
       "  <thead>\n",
       "    <tr style=\"text-align: right;\">\n",
       "      <th></th>\n",
       "      <th>artist_names</th>\n",
       "      <th>artists_id</th>\n",
       "      <th>danceability</th>\n",
       "      <th>energy</th>\n",
       "      <th>valence</th>\n",
       "      <th>tempo</th>\n",
       "      <th>loudness</th>\n",
       "      <th>mode</th>\n",
       "      <th>key</th>\n",
       "      <th>acousticness</th>\n",
       "      <th>instrumentalness</th>\n",
       "      <th>liveness</th>\n",
       "      <th>speechiness</th>\n",
       "      <th>explicit</th>\n",
       "      <th>duration_ms</th>\n",
       "      <th>popularity</th>\n",
       "      <th>year</th>\n",
       "      <th>release_date</th>\n",
       "      <th>song_title (censored)</th>\n",
       "      <th>genre</th>\n",
       "    </tr>\n",
       "  </thead>\n",
       "  <tbody>\n",
       "    <tr>\n",
       "      <td>0</td>\n",
       "      <td>Fat Freddy's Drop</td>\n",
       "      <td>178301</td>\n",
       "      <td>0.600</td>\n",
       "      <td>0.365</td>\n",
       "      <td>0.131</td>\n",
       "      <td>0.532777</td>\n",
       "      <td>-13.083</td>\n",
       "      <td>0</td>\n",
       "      <td>9</td>\n",
       "      <td>0.0672</td>\n",
       "      <td>0.585000</td>\n",
       "      <td>0.0921</td>\n",
       "      <td>0.0498</td>\n",
       "      <td>0</td>\n",
       "      <td>437200</td>\n",
       "      <td>54</td>\n",
       "      <td>2005</td>\n",
       "      <td>2005</td>\n",
       "      <td>Ernie</td>\n",
       "      <td>Electronic</td>\n",
       "    </tr>\n",
       "    <tr>\n",
       "      <td>1</td>\n",
       "      <td>Fat Freddy's Drop</td>\n",
       "      <td>178301</td>\n",
       "      <td>0.874</td>\n",
       "      <td>0.326</td>\n",
       "      <td>0.179</td>\n",
       "      <td>0.490063</td>\n",
       "      <td>-13.302</td>\n",
       "      <td>0</td>\n",
       "      <td>11</td>\n",
       "      <td>0.0136</td>\n",
       "      <td>0.148000</td>\n",
       "      <td>0.0993</td>\n",
       "      <td>0.1310</td>\n",
       "      <td>0</td>\n",
       "      <td>581008</td>\n",
       "      <td>53</td>\n",
       "      <td>2005</td>\n",
       "      <td>2005</td>\n",
       "      <td>Wandering Eye</td>\n",
       "      <td>Electronic</td>\n",
       "    </tr>\n",
       "    <tr>\n",
       "      <td>2</td>\n",
       "      <td>Fat Freddy's Drop</td>\n",
       "      <td>178301</td>\n",
       "      <td>0.670</td>\n",
       "      <td>0.531</td>\n",
       "      <td>0.336</td>\n",
       "      <td>0.571037</td>\n",
       "      <td>-8.267</td>\n",
       "      <td>0</td>\n",
       "      <td>9</td>\n",
       "      <td>0.0156</td>\n",
       "      <td>0.345000</td>\n",
       "      <td>0.3060</td>\n",
       "      <td>0.0377</td>\n",
       "      <td>0</td>\n",
       "      <td>431293</td>\n",
       "      <td>55</td>\n",
       "      <td>2009</td>\n",
       "      <td>8/7/2009</td>\n",
       "      <td>The Raft</td>\n",
       "      <td>Electronic</td>\n",
       "    </tr>\n",
       "    <tr>\n",
       "      <td>3</td>\n",
       "      <td>Alexander O'Neal</td>\n",
       "      <td>625201</td>\n",
       "      <td>0.761</td>\n",
       "      <td>0.702</td>\n",
       "      <td>0.850</td>\n",
       "      <td>0.429237</td>\n",
       "      <td>-8.523</td>\n",
       "      <td>1</td>\n",
       "      <td>7</td>\n",
       "      <td>0.1080</td>\n",
       "      <td>0.000031</td>\n",
       "      <td>0.0935</td>\n",
       "      <td>0.0389</td>\n",
       "      <td>0</td>\n",
       "      <td>304427</td>\n",
       "      <td>34</td>\n",
       "      <td>1991</td>\n",
       "      <td>1/1/1991</td>\n",
       "      <td>All True Man</td>\n",
       "      <td>R&amp;B;</td>\n",
       "    </tr>\n",
       "    <tr>\n",
       "      <td>4</td>\n",
       "      <td>Alexander O'Neal</td>\n",
       "      <td>625201</td>\n",
       "      <td>0.661</td>\n",
       "      <td>0.828</td>\n",
       "      <td>0.902</td>\n",
       "      <td>0.471455</td>\n",
       "      <td>-12.673</td>\n",
       "      <td>0</td>\n",
       "      <td>11</td>\n",
       "      <td>0.2760</td>\n",
       "      <td>0.000001</td>\n",
       "      <td>0.2870</td>\n",
       "      <td>0.0390</td>\n",
       "      <td>0</td>\n",
       "      <td>264933</td>\n",
       "      <td>37</td>\n",
       "      <td>1987</td>\n",
       "      <td>7/29/1987</td>\n",
       "      <td>(What Can I Say) To Make You Love Me</td>\n",
       "      <td>R&amp;B;</td>\n",
       "    </tr>\n",
       "  </tbody>\n",
       "</table>\n",
       "</div>"
      ],
      "text/plain": [
       "        artist_names  artists_id  danceability  energy  valence     tempo  \\\n",
       "0  Fat Freddy's Drop      178301         0.600   0.365    0.131  0.532777   \n",
       "1  Fat Freddy's Drop      178301         0.874   0.326    0.179  0.490063   \n",
       "2  Fat Freddy's Drop      178301         0.670   0.531    0.336  0.571037   \n",
       "3   Alexander O'Neal      625201         0.761   0.702    0.850  0.429237   \n",
       "4   Alexander O'Neal      625201         0.661   0.828    0.902  0.471455   \n",
       "\n",
       "   loudness  mode  key  acousticness  instrumentalness  liveness  speechiness  \\\n",
       "0   -13.083     0    9        0.0672          0.585000    0.0921       0.0498   \n",
       "1   -13.302     0   11        0.0136          0.148000    0.0993       0.1310   \n",
       "2    -8.267     0    9        0.0156          0.345000    0.3060       0.0377   \n",
       "3    -8.523     1    7        0.1080          0.000031    0.0935       0.0389   \n",
       "4   -12.673     0   11        0.2760          0.000001    0.2870       0.0390   \n",
       "\n",
       "   explicit  duration_ms  popularity  year release_date  \\\n",
       "0         0       437200          54  2005         2005   \n",
       "1         0       581008          53  2005         2005   \n",
       "2         0       431293          55  2009     8/7/2009   \n",
       "3         0       304427          34  1991     1/1/1991   \n",
       "4         0       264933          37  1987    7/29/1987   \n",
       "\n",
       "                  song_title (censored)       genre  \n",
       "0                                 Ernie  Electronic  \n",
       "1                         Wandering Eye  Electronic  \n",
       "2                              The Raft  Electronic  \n",
       "3                          All True Man        R&B;  \n",
       "4  (What Can I Say) To Make You Love Me        R&B;  "
      ]
     },
     "execution_count": 5,
     "metadata": {},
     "output_type": "execute_result"
    }
   ],
   "source": [
    "from tqdm import tqdm\n",
    "#remove songs by artists that arent in the artists table\n",
    "#duplicate songs w/ more than one artist\n",
    "#takes my computer about a minute to run\n",
    "#can ignore the warnings about setting a copy of a slice from a dataframe\n",
    "full = pd.read_csv('full_music_data.csv')\n",
    "allArtists = list(artists['artist_id'])\n",
    "newdict = {}\n",
    "\n",
    "full['artists_id'] = [int(x.split(',')[0][1:-1]) if len(x.split(',')) == 1 else [int(y) for y in x[1:-1].split(',')] for x in list(full['artists_id'])]\n",
    "full['artist_names'] = [ast.literal_eval(x) if len(ast.literal_eval(x)) > 1 else ast.literal_eval(x)[0] for x in full['artist_names']]\n",
    "floor = min(full['tempo'])\n",
    "span = max(full['tempo']) - floor\n",
    "full['tempo'] = [(x-floor)/span for x in full['tempo']]\n",
    "\n",
    "last_id = 0\n",
    "row = 0\n",
    "for i in tqdm(range(len(full))): \n",
    "    thisRow = full.iloc[i,:]\n",
    "    artIDs = thisRow['artists_id']\n",
    "    artNames = thisRow['artist_names']\n",
    "    \n",
    "    if type(artIDs) == int:\n",
    "        if artIDs == last_id: \n",
    "            thisRow['artists_id'] = artIDs\n",
    "            thisRow['artist_names'] = artNames\n",
    "            newdict[row] = thisRow.to_dict()\n",
    "            row+=1\n",
    "            last_id = artIDs\n",
    "        else:\n",
    "            if artIDs in allArtists:\n",
    "                thisRow['artists_id'] = artIDs\n",
    "                thisRow['artist_names'] = artNames\n",
    "                newdict[row] = thisRow.to_dict()\n",
    "                row+=1\n",
    "                last_id = artIDs\n",
    "                \n",
    "    else:\n",
    "        for j in range(len(artIDs)):\n",
    "            artID = int(artIDs[j])\n",
    "            artName = str(artNames[j])\n",
    "            \n",
    "            if artID in allArtists:\n",
    "                thisRow['artists_id'] = artID\n",
    "                thisRow['artist_names'] = artName\n",
    "                newdict[row] = thisRow.to_dict()\n",
    "                row+=1\n",
    "    i+=1\n",
    "\n",
    "full = pd.DataFrame.from_dict(newdict,'index')\n",
    "\n",
    "artistGenres = {} #adds song genre to full\n",
    "for i in tqdm(range(len(influence))):\n",
    "    row = influence.iloc[i]\n",
    "    influencer = row['influencer_id']\n",
    "    follower = row['follower_id']\n",
    "    infGenre = row['influencer_main_genre']\n",
    "    folGenre = row['follower_main_genre']\n",
    "    artistGenres[influencer] = infGenre\n",
    "    artistGenres[follower] = folGenre\n",
    "\n",
    "def getGenre(row):\n",
    "    artist = row['artists_id']\n",
    "    if type(artist) == list:\n",
    "        print(row)\n",
    "    try:\n",
    "        genre = artistGenres[artist]\n",
    "    except KeyError:\n",
    "        genre = 'N/A'\n",
    "    return genre\n",
    "\n",
    "full['genre'] = full.apply(lambda row: getGenre(row), axis = 1)\n",
    "\n",
    "full.head()\n"
   ]
  },
  {
   "cell_type": "code",
   "execution_count": 6,
   "metadata": {},
   "outputs": [],
   "source": [
    "#list artist names\n",
    "names = []\n",
    "for i in artists['artist_name']:\n",
    "    names.append(i)\n",
    "\n",
    "# refine influence df    \n",
    "influence = influence[influence['influencer_name'].isin(names)]\n",
    "influence = influence[influence['follower_name'].isin(names)]\n",
    "influence = influence.reset_index(drop=True)\n",
    "influence.head()\n",
    "\n",
    "\n",
    "# list genres\n",
    "genre = []\n",
    "for i in influence['influencer_main_genre']:\n",
    "    if i not in genre:\n",
    "        genre.append(i)\n",
    "for i in influence['follower_main_genre']:\n",
    "    if i not in genre:\n",
    "        genre.append(i)\n",
    "       \n",
    "    \n",
    "# dict of genres paired w their artists\n",
    "artistByGenre = {}\n",
    "for i in genre:\n",
    "    artistByGenre[i] = []\n",
    "i = 0\n",
    "while i < len(influence):\n",
    "    genreList = artistByGenre.get(influence['influencer_main_genre'][i])\n",
    "    genreListF = artistByGenre.get(influence['follower_main_genre'][i])\n",
    "    if influence['influencer_name'][i] not in genreList:\n",
    "        genreList.append(influence['influencer_name'][i])\n",
    "    if influence['follower_name'][i] not in genreListF:\n",
    "        genreListF.append(influence['follower_name'][i])\n",
    "    i += 1"
   ]
  },
  {
   "cell_type": "code",
   "execution_count": 7,
   "metadata": {},
   "outputs": [
    {
     "name": "stderr",
     "output_type": "stream",
     "text": [
      "/Users/katherinefaiola/opt/anaconda3/lib/python3.7/site-packages/IPython/core/interactiveshell.py:3326: RankWarning: Polyfit may be poorly conditioned\n",
      "  exec(code_obj, self.user_global_ns, self.user_ns)\n"
     ]
    },
    {
     "data": {
      "text/plain": [
       "[<matplotlib.lines.Line2D at 0x1a1ce84610>]"
      ]
     },
     "execution_count": 7,
     "metadata": {},
     "output_type": "execute_result"
    },
    {
     "data": {
      "image/png": "[encoded data removed]",
      "text/plain": [
       "<Figure size 432x288 with 1 Axes>"
      ]
     },
     "metadata": {
      "needs_background": "light"
     },
     "output_type": "display_data"
    }
   ],
   "source": [
    "#Digital signal processing invented in 1990s, allowing music to be compressed and louder\n",
    "year = years['year']\n",
    "attribute = years['loudness']\n",
    "plt.plot(year, attribute, 'ro')\n",
    "plt.plot(np.unique(year), np.poly1d(np.polyfit(year, attribute, 9))(np.unique(year)), '-b')"
   ]
  },
  {
   "cell_type": "code",
   "execution_count": 8,
   "metadata": {},
   "outputs": [
    {
     "name": "stderr",
     "output_type": "stream",
     "text": [
      "/Users/katherinefaiola/opt/anaconda3/lib/python3.7/site-packages/IPython/core/interactiveshell.py:3326: RankWarning: Polyfit may be poorly conditioned\n",
      "  exec(code_obj, self.user_global_ns, self.user_ns)\n"
     ]
    },
    {
     "data": {
      "text/plain": [
       "[<matplotlib.lines.Line2D at 0x1a1e329d90>]"
      ]
     },
     "execution_count": 8,
     "metadata": {},
     "output_type": "execute_result"
    },
    {
     "data": {
      "image/png": "[encoded data removed]",
      "text/plain": [
       "<Figure size 432x288 with 1 Axes>"
      ]
     },
     "metadata": {
      "needs_background": "light"
     },
     "output_type": "display_data"
    }
   ],
   "source": [
    "#Social media and internet became widespread in the 1990s, leading to a decline in attention span\n",
    "# music streaming services in the 2000s changed the way artists are paid for their songs\n",
    "# instead of per physical copies sold, in which duration doesn't matter, they get paid per each stream at least 30sec long\n",
    "year = years['year']\n",
    "attribute = years['duration_ms']\n",
    "plt.plot(year, attribute, 'ro')\n",
    "plt.plot(np.unique(year), np.poly1d(np.polyfit(year, attribute, 9))(np.unique(year)), '-b')"
   ]
  },
  {
   "cell_type": "code",
   "execution_count": 9,
   "metadata": {},
   "outputs": [
    {
     "data": {
      "text/plain": [
       "20.785705753602475"
      ]
     },
     "execution_count": 9,
     "metadata": {},
     "output_type": "execute_result"
    }
   ],
   "source": [
    "# percent difference in duration of songs after social media\n",
    "socialMedia = years[years['year'] > 1997]\n",
    "socialMedia = socialMedia.reset_index(drop=True)\n",
    "(socialMedia['duration_ms'][0] - socialMedia['duration_ms'][len(socialMedia) - 1]) / socialMedia['duration_ms'][0] * 100"
   ]
  },
  {
   "cell_type": "code",
   "execution_count": 31,
   "metadata": {},
   "outputs": [
    {
     "data": {
      "text/plain": [
       "[<matplotlib.lines.Line2D at 0x1a24d7c410>]"
      ]
     },
     "execution_count": 31,
     "metadata": {},
     "output_type": "execute_result"
    },
    {
     "data": {
      "image/png": "[encoded data removed]",
      "text/plain": [
       "<Figure size 432x288 with 1 Axes>"
      ]
     },
     "metadata": {
      "needs_background": "light"
     },
     "output_type": "display_data"
    }
   ],
   "source": [
    "# live recordings versus digital recordings trends\n",
    "# tech became cheaper so more independent artists could record themselves in a bedroom (e.g. owl city) rather than book events or sign a record label (e.g. chance the rapper)\n",
    "year = years['year']\n",
    "lively = years['liveness']\n",
    "plt.plot(year, lively, 'co')\n",
    "plt.plot(np.unique(year), np.poly1d(np.polyfit(year, lively, 5))(np.unique(year)), 'olive')"
   ]
  },
  {
   "cell_type": "code",
   "execution_count": 102,
   "metadata": {},
   "outputs": [
    {
     "data": {
      "text/plain": [
       "(0, 1)"
      ]
     },
     "execution_count": 102,
     "metadata": {},
     "output_type": "execute_result"
    },
    {
     "data": {
      "image/png": "[encoded data removed]",
      "text/plain": [
       "<Figure size 432x288 with 1 Axes>"
      ]
     },
     "metadata": {
      "needs_background": "light"
     },
     "output_type": "display_data"
    }
   ],
   "source": [
    "# \"boom in the production of electronic and sample-based music\" caused by sampling (from mellotrons in the 50s to 70s vinyl to digital in 80s studios and 80s+ portable)\n",
    "year = years['year']\n",
    "strum = years['instrumentalness']\n",
    "energy = years['energy']\n",
    "plt.plot(year, strum, 'yo', label = 'instrumentalness')\n",
    "plt.plot(np.unique(year), np.poly1d(np.polyfit(year, strum, 6))(np.unique(year)), 'teal')\n",
    "plt.plot(year, energy, 'mo', label= 'energy')\n",
    "plt.plot(np.unique(year), np.poly1d(np.polyfit(year, energy, 6))(np.unique(year)), 'mediumslateblue')\n",
    "plt.legend()\n",
    "plt.ylim(0, 1)"
   ]
  },
  {
   "cell_type": "code",
   "execution_count": null,
   "metadata": {},
   "outputs": [],
   "source": []
  }
 ],
 "metadata": {
  "kernelspec": {
   "display_name": "Python 3",
   "language": "python",
   "name": "python3"
  },
  "language_info": {
   "codemirror_mode": {
    "name": "ipython",
    "version": 3
   },
   "file_extension": ".py",
   "mimetype": "text/x-python",
   "name": "python",
   "nbconvert_exporter": "python",
   "pygments_lexer": "ipython3",
   "version": "3.7.4"
  }
 },
 "nbformat": 4,
 "nbformat_minor": 2
}
